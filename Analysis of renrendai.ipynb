{
 "cells": [
  {
   "cell_type": "markdown",
   "metadata": {},
   "source": [
    "# Preprocessing of the data"
   ]
  },
  {
   "cell_type": "markdown",
   "metadata": {},
   "source": [
    "# Data preprocessing"
   ]
  },
  {
   "cell_type": "code",
   "execution_count": 1,
   "metadata": {},
   "outputs": [],
   "source": [
    "import pandas as pd\n",
    "import numpy as np\n",
    "df = pd.read_csv('dataset of Renren Dai.csv',sep=',',header=0)"
   ]
  },
  {
   "cell_type": "code",
   "execution_count": 2,
   "metadata": {},
   "outputs": [],
   "source": [
    "df=df.dropna(subset=['status'])"
   ]
  },
  {
   "cell_type": "markdown",
   "metadata": {},
   "source": [
    "status is the dependent variable showing whether the p2p contract is success or not\n",
    "status = 0, means failure\n",
    "status = 1, means success\n",
    "statut = NULL, means the p2p contract is still applying and the result is ambiguous so we drop these samples."
   ]
  },
  {
   "cell_type": "code",
   "execution_count": 3,
   "metadata": {},
   "outputs": [
    {
     "data": {
      "text/plain": [
       "<matplotlib.figure.Figure at 0x204895561d0>"
      ]
     },
     "metadata": {},
     "output_type": "display_data"
    },
    {
     "data": {
      "text/plain": [
       "<matplotlib.figure.Figure at 0x2049115e278>"
      ]
     },
     "metadata": {},
     "output_type": "display_data"
    }
   ],
   "source": [
    "import matplotlib.pyplot as plt\n",
    "import seaborn as sns\n",
    "cols = ['interest', 'maturity', 'target', 'age','pastsuccess','pastdefault', 'status']\n",
    "\n",
    "sns.pairplot(df[cols], size=2.5)\n",
    "plt.tight_layout()\n",
    "plt.show()\n",
    "\n",
    "cm = np.corrcoef(df[cols].values.T)\n",
    "#sns.set(font_scale=1.5)\n",
    "hm = sns.heatmap(cm,\n",
    "                 cbar=True,\n",
    "                 annot=True,\n",
    "                 square=True,\n",
    "                 fmt='.2f',\n",
    "                 annot_kws={'size': 10},\n",
    "                 yticklabels=cols,\n",
    "                 xticklabels=cols)\n",
    "\n",
    "plt.tight_layout()\n",
    "plt.show()"
   ]
  },
  {
   "cell_type": "code",
   "execution_count": 4,
   "metadata": {},
   "outputs": [
    {
     "data": {
      "text/html": [
       "<div>\n",
       "<style scoped>\n",
       "    .dataframe tbody tr th:only-of-type {\n",
       "        vertical-align: middle;\n",
       "    }\n",
       "\n",
       "    .dataframe tbody tr th {\n",
       "        vertical-align: top;\n",
       "    }\n",
       "\n",
       "    .dataframe thead th {\n",
       "        text-align: right;\n",
       "    }\n",
       "</style>\n",
       "<table border=\"1\" class=\"dataframe\">\n",
       "  <thead>\n",
       "    <tr style=\"text-align: right;\">\n",
       "      <th></th>\n",
       "      <th>count</th>\n",
       "      <th>mean</th>\n",
       "      <th>std</th>\n",
       "      <th>min</th>\n",
       "      <th>25%</th>\n",
       "      <th>50%</th>\n",
       "      <th>75%</th>\n",
       "      <th>max</th>\n",
       "    </tr>\n",
       "  </thead>\n",
       "  <tbody>\n",
       "    <tr>\n",
       "      <th>code</th>\n",
       "      <td>7495.0</td>\n",
       "      <td>4309.225217</td>\n",
       "      <td>2818.603191</td>\n",
       "      <td>1.0</td>\n",
       "      <td>1874.50</td>\n",
       "      <td>3810.00</td>\n",
       "      <td>6645.50</td>\n",
       "      <td>9756.00</td>\n",
       "    </tr>\n",
       "    <tr>\n",
       "      <th>target</th>\n",
       "      <td>7495.0</td>\n",
       "      <td>64464.322882</td>\n",
       "      <td>81814.482057</td>\n",
       "      <td>3000.0</td>\n",
       "      <td>20000.00</td>\n",
       "      <td>46700.00</td>\n",
       "      <td>80000.00</td>\n",
       "      <td>500000.00</td>\n",
       "    </tr>\n",
       "    <tr>\n",
       "      <th>interest</th>\n",
       "      <td>7495.0</td>\n",
       "      <td>0.140053</td>\n",
       "      <td>0.026086</td>\n",
       "      <td>0.1</td>\n",
       "      <td>0.12</td>\n",
       "      <td>0.13</td>\n",
       "      <td>0.15</td>\n",
       "      <td>0.24</td>\n",
       "    </tr>\n",
       "    <tr>\n",
       "      <th>maturity</th>\n",
       "      <td>7495.0</td>\n",
       "      <td>18.654570</td>\n",
       "      <td>10.485777</td>\n",
       "      <td>3.0</td>\n",
       "      <td>12.00</td>\n",
       "      <td>18.00</td>\n",
       "      <td>24.00</td>\n",
       "      <td>36.00</td>\n",
       "    </tr>\n",
       "    <tr>\n",
       "      <th>payment</th>\n",
       "      <td>7495.0</td>\n",
       "      <td>5012.022148</td>\n",
       "      <td>10237.547471</td>\n",
       "      <td>145.0</td>\n",
       "      <td>1408.50</td>\n",
       "      <td>2420.00</td>\n",
       "      <td>4642.00</td>\n",
       "      <td>171700.00</td>\n",
       "    </tr>\n",
       "    <tr>\n",
       "      <th>status</th>\n",
       "      <td>7495.0</td>\n",
       "      <td>0.645230</td>\n",
       "      <td>0.478475</td>\n",
       "      <td>0.0</td>\n",
       "      <td>0.00</td>\n",
       "      <td>1.00</td>\n",
       "      <td>1.00</td>\n",
       "      <td>1.00</td>\n",
       "    </tr>\n",
       "    <tr>\n",
       "      <th>id</th>\n",
       "      <td>7495.0</td>\n",
       "      <td>679082.258172</td>\n",
       "      <td>175504.380883</td>\n",
       "      <td>2283.0</td>\n",
       "      <td>718306.50</td>\n",
       "      <td>752691.00</td>\n",
       "      <td>762427.00</td>\n",
       "      <td>776595.00</td>\n",
       "    </tr>\n",
       "    <tr>\n",
       "      <th>age</th>\n",
       "      <td>7495.0</td>\n",
       "      <td>32.073382</td>\n",
       "      <td>7.930843</td>\n",
       "      <td>20.0</td>\n",
       "      <td>26.00</td>\n",
       "      <td>30.00</td>\n",
       "      <td>37.00</td>\n",
       "      <td>59.00</td>\n",
       "    </tr>\n",
       "    <tr>\n",
       "      <th>estate</th>\n",
       "      <td>7495.0</td>\n",
       "      <td>0.448432</td>\n",
       "      <td>0.497367</td>\n",
       "      <td>0.0</td>\n",
       "      <td>0.00</td>\n",
       "      <td>0.00</td>\n",
       "      <td>1.00</td>\n",
       "      <td>1.00</td>\n",
       "    </tr>\n",
       "    <tr>\n",
       "      <th>houseloan</th>\n",
       "      <td>7495.0</td>\n",
       "      <td>0.217879</td>\n",
       "      <td>0.412832</td>\n",
       "      <td>0.0</td>\n",
       "      <td>0.00</td>\n",
       "      <td>0.00</td>\n",
       "      <td>0.00</td>\n",
       "      <td>1.00</td>\n",
       "    </tr>\n",
       "    <tr>\n",
       "      <th>car</th>\n",
       "      <td>7495.0</td>\n",
       "      <td>0.107939</td>\n",
       "      <td>0.310324</td>\n",
       "      <td>0.0</td>\n",
       "      <td>0.00</td>\n",
       "      <td>0.00</td>\n",
       "      <td>0.00</td>\n",
       "      <td>1.00</td>\n",
       "    </tr>\n",
       "    <tr>\n",
       "      <th>carloan</th>\n",
       "      <td>7495.0</td>\n",
       "      <td>0.066578</td>\n",
       "      <td>0.249306</td>\n",
       "      <td>0.0</td>\n",
       "      <td>0.00</td>\n",
       "      <td>0.00</td>\n",
       "      <td>0.00</td>\n",
       "      <td>1.00</td>\n",
       "    </tr>\n",
       "    <tr>\n",
       "      <th>creditscore</th>\n",
       "      <td>7495.0</td>\n",
       "      <td>62.075517</td>\n",
       "      <td>60.407030</td>\n",
       "      <td>0.0</td>\n",
       "      <td>20.00</td>\n",
       "      <td>20.00</td>\n",
       "      <td>145.00</td>\n",
       "      <td>146.00</td>\n",
       "    </tr>\n",
       "    <tr>\n",
       "      <th>application</th>\n",
       "      <td>7495.0</td>\n",
       "      <td>2.293129</td>\n",
       "      <td>2.494108</td>\n",
       "      <td>1.0</td>\n",
       "      <td>1.00</td>\n",
       "      <td>1.00</td>\n",
       "      <td>3.00</td>\n",
       "      <td>37.00</td>\n",
       "    </tr>\n",
       "    <tr>\n",
       "      <th>pastsuccess</th>\n",
       "      <td>7495.0</td>\n",
       "      <td>0.463242</td>\n",
       "      <td>1.053900</td>\n",
       "      <td>0.0</td>\n",
       "      <td>0.00</td>\n",
       "      <td>0.00</td>\n",
       "      <td>1.00</td>\n",
       "      <td>27.00</td>\n",
       "    </tr>\n",
       "    <tr>\n",
       "      <th>pastdefault</th>\n",
       "      <td>7495.0</td>\n",
       "      <td>0.036291</td>\n",
       "      <td>0.472930</td>\n",
       "      <td>0.0</td>\n",
       "      <td>0.00</td>\n",
       "      <td>0.00</td>\n",
       "      <td>0.00</td>\n",
       "      <td>20.00</td>\n",
       "    </tr>\n",
       "    <tr>\n",
       "      <th>creditcertificate</th>\n",
       "      <td>7495.0</td>\n",
       "      <td>0.000000</td>\n",
       "      <td>0.000000</td>\n",
       "      <td>0.0</td>\n",
       "      <td>0.00</td>\n",
       "      <td>0.00</td>\n",
       "      <td>0.00</td>\n",
       "      <td>0.00</td>\n",
       "    </tr>\n",
       "    <tr>\n",
       "      <th>creditreport</th>\n",
       "      <td>7495.0</td>\n",
       "      <td>0.465644</td>\n",
       "      <td>0.498852</td>\n",
       "      <td>0.0</td>\n",
       "      <td>0.00</td>\n",
       "      <td>0.00</td>\n",
       "      <td>1.00</td>\n",
       "      <td>1.00</td>\n",
       "    </tr>\n",
       "    <tr>\n",
       "      <th>identitycertificate</th>\n",
       "      <td>7495.0</td>\n",
       "      <td>0.577985</td>\n",
       "      <td>0.493914</td>\n",
       "      <td>0.0</td>\n",
       "      <td>0.00</td>\n",
       "      <td>1.00</td>\n",
       "      <td>1.00</td>\n",
       "      <td>1.00</td>\n",
       "    </tr>\n",
       "    <tr>\n",
       "      <th>jobcertificate</th>\n",
       "      <td>7495.0</td>\n",
       "      <td>0.398666</td>\n",
       "      <td>0.489656</td>\n",
       "      <td>0.0</td>\n",
       "      <td>0.00</td>\n",
       "      <td>0.00</td>\n",
       "      <td>1.00</td>\n",
       "      <td>1.00</td>\n",
       "    </tr>\n",
       "    <tr>\n",
       "      <th>incomecertificate</th>\n",
       "      <td>7495.0</td>\n",
       "      <td>0.393863</td>\n",
       "      <td>0.488638</td>\n",
       "      <td>0.0</td>\n",
       "      <td>0.00</td>\n",
       "      <td>0.00</td>\n",
       "      <td>1.00</td>\n",
       "      <td>1.00</td>\n",
       "    </tr>\n",
       "    <tr>\n",
       "      <th>estatecertificate</th>\n",
       "      <td>7495.0</td>\n",
       "      <td>0.036958</td>\n",
       "      <td>0.188671</td>\n",
       "      <td>0.0</td>\n",
       "      <td>0.00</td>\n",
       "      <td>0.00</td>\n",
       "      <td>0.00</td>\n",
       "      <td>1.00</td>\n",
       "    </tr>\n",
       "    <tr>\n",
       "      <th>carcertificate</th>\n",
       "      <td>7495.0</td>\n",
       "      <td>0.000000</td>\n",
       "      <td>0.000000</td>\n",
       "      <td>0.0</td>\n",
       "      <td>0.00</td>\n",
       "      <td>0.00</td>\n",
       "      <td>0.00</td>\n",
       "      <td>0.00</td>\n",
       "    </tr>\n",
       "    <tr>\n",
       "      <th>marriagecertificate</th>\n",
       "      <td>7495.0</td>\n",
       "      <td>0.000000</td>\n",
       "      <td>0.000000</td>\n",
       "      <td>0.0</td>\n",
       "      <td>0.00</td>\n",
       "      <td>0.00</td>\n",
       "      <td>0.00</td>\n",
       "      <td>0.00</td>\n",
       "    </tr>\n",
       "    <tr>\n",
       "      <th>educertificate</th>\n",
       "      <td>7495.0</td>\n",
       "      <td>0.019613</td>\n",
       "      <td>0.138676</td>\n",
       "      <td>0.0</td>\n",
       "      <td>0.00</td>\n",
       "      <td>0.00</td>\n",
       "      <td>0.00</td>\n",
       "      <td>1.00</td>\n",
       "    </tr>\n",
       "    <tr>\n",
       "      <th>techcertificate</th>\n",
       "      <td>7495.0</td>\n",
       "      <td>0.000000</td>\n",
       "      <td>0.000000</td>\n",
       "      <td>0.0</td>\n",
       "      <td>0.00</td>\n",
       "      <td>0.00</td>\n",
       "      <td>0.00</td>\n",
       "      <td>0.00</td>\n",
       "    </tr>\n",
       "    <tr>\n",
       "      <th>mobilecertificate</th>\n",
       "      <td>7495.0</td>\n",
       "      <td>0.000000</td>\n",
       "      <td>0.000000</td>\n",
       "      <td>0.0</td>\n",
       "      <td>0.00</td>\n",
       "      <td>0.00</td>\n",
       "      <td>0.00</td>\n",
       "      <td>0.00</td>\n",
       "    </tr>\n",
       "    <tr>\n",
       "      <th>weibocertificate</th>\n",
       "      <td>7495.0</td>\n",
       "      <td>0.011474</td>\n",
       "      <td>0.106509</td>\n",
       "      <td>0.0</td>\n",
       "      <td>0.00</td>\n",
       "      <td>0.00</td>\n",
       "      <td>0.00</td>\n",
       "      <td>1.00</td>\n",
       "    </tr>\n",
       "  </tbody>\n",
       "</table>\n",
       "</div>"
      ],
      "text/plain": [
       "                      count           mean            std     min        25%  \\\n",
       "code                 7495.0    4309.225217    2818.603191     1.0    1874.50   \n",
       "target               7495.0   64464.322882   81814.482057  3000.0   20000.00   \n",
       "interest             7495.0       0.140053       0.026086     0.1       0.12   \n",
       "maturity             7495.0      18.654570      10.485777     3.0      12.00   \n",
       "payment              7495.0    5012.022148   10237.547471   145.0    1408.50   \n",
       "status               7495.0       0.645230       0.478475     0.0       0.00   \n",
       "id                   7495.0  679082.258172  175504.380883  2283.0  718306.50   \n",
       "age                  7495.0      32.073382       7.930843    20.0      26.00   \n",
       "estate               7495.0       0.448432       0.497367     0.0       0.00   \n",
       "houseloan            7495.0       0.217879       0.412832     0.0       0.00   \n",
       "car                  7495.0       0.107939       0.310324     0.0       0.00   \n",
       "carloan              7495.0       0.066578       0.249306     0.0       0.00   \n",
       "creditscore          7495.0      62.075517      60.407030     0.0      20.00   \n",
       "application          7495.0       2.293129       2.494108     1.0       1.00   \n",
       "pastsuccess          7495.0       0.463242       1.053900     0.0       0.00   \n",
       "pastdefault          7495.0       0.036291       0.472930     0.0       0.00   \n",
       "creditcertificate    7495.0       0.000000       0.000000     0.0       0.00   \n",
       "creditreport         7495.0       0.465644       0.498852     0.0       0.00   \n",
       "identitycertificate  7495.0       0.577985       0.493914     0.0       0.00   \n",
       "jobcertificate       7495.0       0.398666       0.489656     0.0       0.00   \n",
       "incomecertificate    7495.0       0.393863       0.488638     0.0       0.00   \n",
       "estatecertificate    7495.0       0.036958       0.188671     0.0       0.00   \n",
       "carcertificate       7495.0       0.000000       0.000000     0.0       0.00   \n",
       "marriagecertificate  7495.0       0.000000       0.000000     0.0       0.00   \n",
       "educertificate       7495.0       0.019613       0.138676     0.0       0.00   \n",
       "techcertificate      7495.0       0.000000       0.000000     0.0       0.00   \n",
       "mobilecertificate    7495.0       0.000000       0.000000     0.0       0.00   \n",
       "weibocertificate     7495.0       0.011474       0.106509     0.0       0.00   \n",
       "\n",
       "                           50%        75%        max  \n",
       "code                   3810.00    6645.50    9756.00  \n",
       "target                46700.00   80000.00  500000.00  \n",
       "interest                  0.13       0.15       0.24  \n",
       "maturity                 18.00      24.00      36.00  \n",
       "payment                2420.00    4642.00  171700.00  \n",
       "status                    1.00       1.00       1.00  \n",
       "id                   752691.00  762427.00  776595.00  \n",
       "age                      30.00      37.00      59.00  \n",
       "estate                    0.00       1.00       1.00  \n",
       "houseloan                 0.00       0.00       1.00  \n",
       "car                       0.00       0.00       1.00  \n",
       "carloan                   0.00       0.00       1.00  \n",
       "creditscore              20.00     145.00     146.00  \n",
       "application               1.00       3.00      37.00  \n",
       "pastsuccess               0.00       1.00      27.00  \n",
       "pastdefault               0.00       0.00      20.00  \n",
       "creditcertificate         0.00       0.00       0.00  \n",
       "creditreport              0.00       1.00       1.00  \n",
       "identitycertificate       1.00       1.00       1.00  \n",
       "jobcertificate            0.00       1.00       1.00  \n",
       "incomecertificate         0.00       1.00       1.00  \n",
       "estatecertificate         0.00       0.00       1.00  \n",
       "carcertificate            0.00       0.00       0.00  \n",
       "marriagecertificate       0.00       0.00       0.00  \n",
       "educertificate            0.00       0.00       1.00  \n",
       "techcertificate           0.00       0.00       0.00  \n",
       "mobilecertificate         0.00       0.00       0.00  \n",
       "weibocertificate          0.00       0.00       1.00  "
      ]
     },
     "execution_count": 4,
     "metadata": {},
     "output_type": "execute_result"
    }
   ],
   "source": [
    "df.describe().transpose()"
   ]
  },
  {
   "cell_type": "markdown",
   "metadata": {},
   "source": [
    "note that some of the variable values are in Chinese and I translate most of them"
   ]
  },
  {
   "cell_type": "code",
   "execution_count": 5,
   "metadata": {},
   "outputs": [
    {
     "data": {
      "text/plain": [
       "<bound method NDFrame.tail of       code  target  interest  maturity  age  estate  application  pastsuccess  \\\n",
       "0        1    3000      0.10         3   29       0            2            1   \n",
       "1        2    6000      0.11         6   30       1            1            1   \n",
       "2        3   50000      0.15        24   27       0            1            0   \n",
       "3        4   10000      0.20        24   23       0            4            0   \n",
       "4        5    5000      0.20         9   26       0            1            0   \n",
       "5        6   50000      0.13         6   26       0            1            0   \n",
       "6        7  100000      0.15        24   28       0            2            0   \n",
       "7        8   15000      0.10         3   23       0            1            0   \n",
       "8        9   20000      0.15        12   32       0           10            0   \n",
       "9       10  100000      0.15        12   41       1            1            0   \n",
       "10      11    6000      0.11         6   36       1            4            0   \n",
       "11      12  400000      0.15        12   33       0            1            0   \n",
       "12      13   35000      0.15        24   24       0            1            0   \n",
       "13      14   18000      0.24        24   29       1           16            0   \n",
       "14      15   30000      0.24        24   30       1           10            0   \n",
       "15      16  130000      0.15        24   31       0            3            0   \n",
       "16      17   50000      0.15        24   27       0            1            0   \n",
       "17      18  100000      0.15        24   26       0            2            0   \n",
       "18      19    5000      0.15        12   33       0            1            0   \n",
       "19      20    3500      0.15        12   22       0            1            0   \n",
       "20      21  150000      0.15        12   24       1            1            0   \n",
       "21      22    3000      0.15        12   24       0            2            0   \n",
       "22      23   30000      0.13         9   27       1           19           11   \n",
       "23      24   10000      0.15        12   30       0            1            0   \n",
       "24      25   50000      0.15        24   36       1            2            0   \n",
       "25      26   60000      0.15        12   36       0            1            0   \n",
       "26      27   30000      0.15        24   29       1            4            0   \n",
       "27      28   15000      0.15         6   32       1            2            1   \n",
       "28      29   20000      0.15        24   24       0            1            0   \n",
       "29      30    3000      0.20         3   26       0            2            0   \n",
       "...    ...     ...       ...       ...  ...     ...          ...          ...   \n",
       "9704  9705   73800      0.13        36   41       0            1            1   \n",
       "9705  9706   27600      0.13        24   35       0            1            1   \n",
       "9707  9708   30700      0.12        18   31       0            1            1   \n",
       "9708  9709   30800      0.13        36   46       1            1            1   \n",
       "9709  9710   93400      0.13        36   45       1            1            1   \n",
       "9710  9711   43100      0.13        36   29       0            1            1   \n",
       "9711  9712   36900      0.13        36   48       1            1            1   \n",
       "9712  9713   93400      0.13        36   29       1            1            1   \n",
       "9713  9714   61500      0.13        36   47       0            1            1   \n",
       "9714  9715   86100      0.13        36   43       1            1            1   \n",
       "9715  9716   27600      0.13        24   26       0            1            1   \n",
       "9716  9717   41500      0.13        24   26       0            1            1   \n",
       "9717  9718   61500      0.13        36   35       1            1            1   \n",
       "9718  9719   93400      0.13        36   22       1            1            1   \n",
       "9719  9720   62200      0.13        36   27       1            1            1   \n",
       "9720  9721   55300      0.13        24   38       0            1            1   \n",
       "9721  9722   62200      0.13        36   31       1            1            1   \n",
       "9722  9723   27600      0.13        24   22       0            1            1   \n",
       "9723  9724   46700      0.13        36   42       1            1            1   \n",
       "9724  9725   93400      0.13        36   36       1            1            1   \n",
       "9725  9726  106700      0.12        18   40       1            1            1   \n",
       "9726  9727   66700      0.12        18   57       0            1            1   \n",
       "9729  9730  100000      0.13        36   27       0            3            0   \n",
       "9730  9731   70000      0.18        36   28       1            4            0   \n",
       "9736  9737   70000      0.17        36   28       1            4            0   \n",
       "9742  9743    4000      0.11         6   32       0            1            0   \n",
       "9747  9748   20000      0.10         3   27       0            3            0   \n",
       "9752  9753   10000      0.10         3   27       0            3            0   \n",
       "9754  9755   90000      0.13        24   30       1            3            0   \n",
       "9755  9756   10000      0.24        12   23       1            6            0   \n",
       "\n",
       "      pastdefault  creditcertificate        ...         identitycertificate  \\\n",
       "0               1                  0        ...                           1   \n",
       "1               0                  0        ...                           1   \n",
       "2               0                  0        ...                           0   \n",
       "3               0                  0        ...                           0   \n",
       "4               0                  0        ...                           0   \n",
       "5               0                  0        ...                           0   \n",
       "6               0                  0        ...                           0   \n",
       "7               0                  0        ...                           0   \n",
       "8               0                  0        ...                           1   \n",
       "9               0                  0        ...                           0   \n",
       "10              0                  0        ...                           1   \n",
       "11              0                  0        ...                           0   \n",
       "12              0                  0        ...                           0   \n",
       "13              0                  0        ...                           1   \n",
       "14              0                  0        ...                           0   \n",
       "15              0                  0        ...                           0   \n",
       "16              0                  0        ...                           0   \n",
       "17              0                  0        ...                           0   \n",
       "18              0                  0        ...                           1   \n",
       "19              0                  0        ...                           0   \n",
       "20              0                  0        ...                           0   \n",
       "21              0                  0        ...                           0   \n",
       "22              3                  0        ...                           1   \n",
       "23              0                  0        ...                           0   \n",
       "24              0                  0        ...                           1   \n",
       "25              0                  0        ...                           0   \n",
       "26              0                  0        ...                           1   \n",
       "27              0                  0        ...                           1   \n",
       "28              0                  0        ...                           0   \n",
       "29              0                  0        ...                           1   \n",
       "...           ...                ...        ...                         ...   \n",
       "9704            0                  0        ...                           1   \n",
       "9705            0                  0        ...                           1   \n",
       "9707            0                  0        ...                           1   \n",
       "9708            0                  0        ...                           1   \n",
       "9709            0                  0        ...                           1   \n",
       "9710            0                  0        ...                           1   \n",
       "9711            0                  0        ...                           1   \n",
       "9712            0                  0        ...                           1   \n",
       "9713            0                  0        ...                           1   \n",
       "9714            0                  0        ...                           1   \n",
       "9715            0                  0        ...                           1   \n",
       "9716            0                  0        ...                           1   \n",
       "9717            0                  0        ...                           1   \n",
       "9718            0                  0        ...                           1   \n",
       "9719            0                  0        ...                           1   \n",
       "9720            0                  0        ...                           1   \n",
       "9721            0                  0        ...                           1   \n",
       "9722            0                  0        ...                           1   \n",
       "9723            0                  0        ...                           1   \n",
       "9724            0                  0        ...                           1   \n",
       "9725            0                  0        ...                           1   \n",
       "9726            0                  0        ...                           1   \n",
       "9729            0                  0        ...                           1   \n",
       "9730            0                  0        ...                           1   \n",
       "9736            0                  0        ...                           1   \n",
       "9742            0                  0        ...                           0   \n",
       "9747            0                  0        ...                           1   \n",
       "9752            0                  0        ...                           1   \n",
       "9754            0                  0        ...                           0   \n",
       "9755            0                  0        ...                           1   \n",
       "\n",
       "      jobcertificate  incomecertificate  estatecertificate  carcertificate  \\\n",
       "0                  1                  1                  0               0   \n",
       "1                  1                  1                  0               0   \n",
       "2                  0                  0                  0               0   \n",
       "3                  0                  0                  0               0   \n",
       "4                  0                  0                  0               0   \n",
       "5                  0                  0                  0               0   \n",
       "6                  0                  0                  0               0   \n",
       "7                  0                  0                  0               0   \n",
       "8                  0                  0                  0               0   \n",
       "9                  0                  0                  0               0   \n",
       "10                 0                  0                  0               0   \n",
       "11                 0                  0                  0               0   \n",
       "12                 0                  0                  0               0   \n",
       "13                 0                  0                  1               0   \n",
       "14                 0                  0                  0               0   \n",
       "15                 0                  0                  0               0   \n",
       "16                 0                  0                  0               0   \n",
       "17                 0                  0                  0               0   \n",
       "18                 0                  0                  0               0   \n",
       "19                 0                  0                  0               0   \n",
       "20                 0                  0                  0               0   \n",
       "21                 0                  0                  0               0   \n",
       "22                 1                  1                  1               0   \n",
       "23                 0                  0                  0               0   \n",
       "24                 1                  1                  0               0   \n",
       "25                 0                  0                  0               0   \n",
       "26                 0                  0                  1               0   \n",
       "27                 1                  1                  1               0   \n",
       "28                 0                  0                  0               0   \n",
       "29                 0                  0                  0               0   \n",
       "...              ...                ...                ...             ...   \n",
       "9704               1                  1                  0               0   \n",
       "9705               1                  1                  0               0   \n",
       "9707               1                  1                  0               0   \n",
       "9708               1                  1                  0               0   \n",
       "9709               1                  1                  0               0   \n",
       "9710               1                  1                  0               0   \n",
       "9711               1                  1                  0               0   \n",
       "9712               1                  1                  0               0   \n",
       "9713               1                  1                  0               0   \n",
       "9714               1                  1                  0               0   \n",
       "9715               1                  1                  0               0   \n",
       "9716               1                  1                  0               0   \n",
       "9717               1                  1                  0               0   \n",
       "9718               1                  1                  0               0   \n",
       "9719               1                  1                  0               0   \n",
       "9720               1                  1                  0               0   \n",
       "9721               1                  1                  0               0   \n",
       "9722               1                  1                  0               0   \n",
       "9723               1                  1                  0               0   \n",
       "9724               1                  1                  0               0   \n",
       "9725               1                  1                  0               0   \n",
       "9726               1                  1                  0               0   \n",
       "9729               0                  0                  0               0   \n",
       "9730               0                  0                  0               0   \n",
       "9736               0                  0                  0               0   \n",
       "9742               0                  0                  0               0   \n",
       "9747               0                  0                  0               0   \n",
       "9752               0                  0                  0               0   \n",
       "9754               0                  0                  1               0   \n",
       "9755               0                  0                  0               0   \n",
       "\n",
       "      marriagecertificate  educertificate  techcertificate  mobilecertificate  \\\n",
       "0                       0               0                0                  0   \n",
       "1                       0               0                0                  0   \n",
       "2                       0               0                0                  0   \n",
       "3                       0               0                0                  0   \n",
       "4                       0               0                0                  0   \n",
       "5                       0               0                0                  0   \n",
       "6                       0               0                0                  0   \n",
       "7                       0               0                0                  0   \n",
       "8                       0               0                0                  0   \n",
       "9                       0               0                0                  0   \n",
       "10                      0               0                0                  0   \n",
       "11                      0               0                0                  0   \n",
       "12                      0               0                0                  0   \n",
       "13                      0               1                0                  0   \n",
       "14                      0               0                0                  0   \n",
       "15                      0               0                0                  0   \n",
       "16                      0               0                0                  0   \n",
       "17                      0               0                0                  0   \n",
       "18                      0               0                0                  0   \n",
       "19                      0               0                0                  0   \n",
       "20                      0               0                0                  0   \n",
       "21                      0               0                0                  0   \n",
       "22                      0               1                0                  0   \n",
       "23                      0               0                0                  0   \n",
       "24                      0               0                0                  0   \n",
       "25                      0               0                0                  0   \n",
       "26                      0               0                0                  0   \n",
       "27                      0               0                0                  0   \n",
       "28                      0               0                0                  0   \n",
       "29                      0               0                0                  0   \n",
       "...                   ...             ...              ...                ...   \n",
       "9704                    0               0                0                  0   \n",
       "9705                    0               0                0                  0   \n",
       "9707                    0               0                0                  0   \n",
       "9708                    0               0                0                  0   \n",
       "9709                    0               0                0                  0   \n",
       "9710                    0               0                0                  0   \n",
       "9711                    0               0                0                  0   \n",
       "9712                    0               0                0                  0   \n",
       "9713                    0               0                0                  0   \n",
       "9714                    0               0                0                  0   \n",
       "9715                    0               0                0                  0   \n",
       "9716                    0               0                0                  0   \n",
       "9717                    0               0                0                  0   \n",
       "9718                    0               0                0                  0   \n",
       "9719                    0               0                0                  0   \n",
       "9720                    0               0                0                  0   \n",
       "9721                    0               0                0                  0   \n",
       "9722                    0               0                0                  0   \n",
       "9723                    0               0                0                  0   \n",
       "9724                    0               0                0                  0   \n",
       "9725                    0               0                0                  0   \n",
       "9726                    0               0                0                  0   \n",
       "9729                    0               0                0                  0   \n",
       "9730                    0               0                0                  0   \n",
       "9736                    0               0                0                  0   \n",
       "9742                    0               0                0                  0   \n",
       "9747                    0               0                0                  0   \n",
       "9752                    0               0                0                  0   \n",
       "9754                    0               0                0                  0   \n",
       "9755                    0               0                0                  0   \n",
       "\n",
       "      weibocertificate  \n",
       "0                    0  \n",
       "1                    0  \n",
       "2                    0  \n",
       "3                    0  \n",
       "4                    0  \n",
       "5                    0  \n",
       "6                    0  \n",
       "7                    0  \n",
       "8                    0  \n",
       "9                    0  \n",
       "10                   0  \n",
       "11                   0  \n",
       "12                   0  \n",
       "13                   0  \n",
       "14                   0  \n",
       "15                   0  \n",
       "16                   0  \n",
       "17                   0  \n",
       "18                   0  \n",
       "19                   0  \n",
       "20                   0  \n",
       "21                   0  \n",
       "22                   0  \n",
       "23                   0  \n",
       "24                   0  \n",
       "25                   0  \n",
       "26                   0  \n",
       "27                   0  \n",
       "28                   0  \n",
       "29                   0  \n",
       "...                ...  \n",
       "9704                 0  \n",
       "9705                 0  \n",
       "9707                 0  \n",
       "9708                 0  \n",
       "9709                 0  \n",
       "9710                 0  \n",
       "9711                 0  \n",
       "9712                 0  \n",
       "9713                 0  \n",
       "9714                 0  \n",
       "9715                 0  \n",
       "9716                 0  \n",
       "9717                 0  \n",
       "9718                 0  \n",
       "9719                 0  \n",
       "9720                 0  \n",
       "9721                 0  \n",
       "9722                 0  \n",
       "9723                 0  \n",
       "9724                 0  \n",
       "9725                 0  \n",
       "9726                 0  \n",
       "9729                 0  \n",
       "9730                 0  \n",
       "9736                 0  \n",
       "9742                 0  \n",
       "9747                 1  \n",
       "9752                 1  \n",
       "9754                 0  \n",
       "9755                 0  \n",
       "\n",
       "[7495 rows x 21 columns]>"
      ]
     },
     "execution_count": 5,
     "metadata": {},
     "output_type": "execute_result"
    }
   ],
   "source": [
    "X = df.iloc[:, [0,1,2,3,8,13,18,19,20,21,22,23,24,25,26,27,28,29,30,31,32]]\n",
    "y = df.iloc[:, 5]\n",
    "X.tail"
   ]
  },
  {
   "cell_type": "code",
   "execution_count": 6,
   "metadata": {},
   "outputs": [],
   "source": [
    "df1= pd.get_dummies(df[['income','education','marriage','code','workingtime']],drop_first=True)\n",
    "\n",
    "X1=pd.merge(X,df1,on='code')\n"
   ]
  },
  {
   "cell_type": "code",
   "execution_count": 7,
   "metadata": {},
   "outputs": [
    {
     "data": {
      "text/html": [
       "<div>\n",
       "<style scoped>\n",
       "    .dataframe tbody tr th:only-of-type {\n",
       "        vertical-align: middle;\n",
       "    }\n",
       "\n",
       "    .dataframe tbody tr th {\n",
       "        vertical-align: top;\n",
       "    }\n",
       "\n",
       "    .dataframe thead th {\n",
       "        text-align: right;\n",
       "    }\n",
       "</style>\n",
       "<table border=\"1\" class=\"dataframe\">\n",
       "  <thead>\n",
       "    <tr style=\"text-align: right;\">\n",
       "      <th></th>\n",
       "      <th>count</th>\n",
       "      <th>mean</th>\n",
       "      <th>std</th>\n",
       "      <th>min</th>\n",
       "      <th>25%</th>\n",
       "      <th>50%</th>\n",
       "      <th>75%</th>\n",
       "      <th>max</th>\n",
       "    </tr>\n",
       "  </thead>\n",
       "  <tbody>\n",
       "    <tr>\n",
       "      <th>code</th>\n",
       "      <td>7495.0</td>\n",
       "      <td>4309.225217</td>\n",
       "      <td>2818.603191</td>\n",
       "      <td>1.0</td>\n",
       "      <td>1874.5</td>\n",
       "      <td>3810.0</td>\n",
       "      <td>6645.5</td>\n",
       "      <td>9756.0</td>\n",
       "    </tr>\n",
       "    <tr>\n",
       "      <th>income_10000-20000</th>\n",
       "      <td>7495.0</td>\n",
       "      <td>0.141694</td>\n",
       "      <td>0.348760</td>\n",
       "      <td>0.0</td>\n",
       "      <td>0.0</td>\n",
       "      <td>0.0</td>\n",
       "      <td>0.0</td>\n",
       "      <td>1.0</td>\n",
       "    </tr>\n",
       "    <tr>\n",
       "      <th>income_1001-2000</th>\n",
       "      <td>7495.0</td>\n",
       "      <td>0.006938</td>\n",
       "      <td>0.083010</td>\n",
       "      <td>0.0</td>\n",
       "      <td>0.0</td>\n",
       "      <td>0.0</td>\n",
       "      <td>0.0</td>\n",
       "      <td>1.0</td>\n",
       "    </tr>\n",
       "    <tr>\n",
       "      <th>income_2000-5000</th>\n",
       "      <td>7495.0</td>\n",
       "      <td>0.300867</td>\n",
       "      <td>0.458666</td>\n",
       "      <td>0.0</td>\n",
       "      <td>0.0</td>\n",
       "      <td>0.0</td>\n",
       "      <td>1.0</td>\n",
       "      <td>1.0</td>\n",
       "    </tr>\n",
       "    <tr>\n",
       "      <th>income_20000-50000</th>\n",
       "      <td>7495.0</td>\n",
       "      <td>0.089393</td>\n",
       "      <td>0.285329</td>\n",
       "      <td>0.0</td>\n",
       "      <td>0.0</td>\n",
       "      <td>0.0</td>\n",
       "      <td>0.0</td>\n",
       "      <td>1.0</td>\n",
       "    </tr>\n",
       "    <tr>\n",
       "      <th>income_5000-10000</th>\n",
       "      <td>7495.0</td>\n",
       "      <td>0.330620</td>\n",
       "      <td>0.470468</td>\n",
       "      <td>0.0</td>\n",
       "      <td>0.0</td>\n",
       "      <td>0.0</td>\n",
       "      <td>1.0</td>\n",
       "      <td>1.0</td>\n",
       "    </tr>\n",
       "    <tr>\n",
       "      <th>income_5000-10000 ,</th>\n",
       "      <td>7495.0</td>\n",
       "      <td>0.000267</td>\n",
       "      <td>0.016334</td>\n",
       "      <td>0.0</td>\n",
       "      <td>0.0</td>\n",
       "      <td>0.0</td>\n",
       "      <td>0.0</td>\n",
       "      <td>1.0</td>\n",
       "    </tr>\n",
       "    <tr>\n",
       "      <th>income_above 50000</th>\n",
       "      <td>7495.0</td>\n",
       "      <td>0.051234</td>\n",
       "      <td>0.220490</td>\n",
       "      <td>0.0</td>\n",
       "      <td>0.0</td>\n",
       "      <td>0.0</td>\n",
       "      <td>0.0</td>\n",
       "      <td>1.0</td>\n",
       "    </tr>\n",
       "    <tr>\n",
       "      <th>income_below 1000</th>\n",
       "      <td>7495.0</td>\n",
       "      <td>0.004136</td>\n",
       "      <td>0.064184</td>\n",
       "      <td>0.0</td>\n",
       "      <td>0.0</td>\n",
       "      <td>0.0</td>\n",
       "      <td>0.0</td>\n",
       "      <td>1.0</td>\n",
       "    </tr>\n",
       "    <tr>\n",
       "      <th>education_highschool</th>\n",
       "      <td>7495.0</td>\n",
       "      <td>0.327018</td>\n",
       "      <td>0.469155</td>\n",
       "      <td>0.0</td>\n",
       "      <td>0.0</td>\n",
       "      <td>0.0</td>\n",
       "      <td>1.0</td>\n",
       "      <td>1.0</td>\n",
       "    </tr>\n",
       "    <tr>\n",
       "      <th>education_junior college</th>\n",
       "      <td>7495.0</td>\n",
       "      <td>0.428686</td>\n",
       "      <td>0.494921</td>\n",
       "      <td>0.0</td>\n",
       "      <td>0.0</td>\n",
       "      <td>0.0</td>\n",
       "      <td>1.0</td>\n",
       "      <td>1.0</td>\n",
       "    </tr>\n",
       "    <tr>\n",
       "      <th>education_master</th>\n",
       "      <td>7495.0</td>\n",
       "      <td>0.014810</td>\n",
       "      <td>0.120799</td>\n",
       "      <td>0.0</td>\n",
       "      <td>0.0</td>\n",
       "      <td>0.0</td>\n",
       "      <td>0.0</td>\n",
       "      <td>1.0</td>\n",
       "    </tr>\n",
       "    <tr>\n",
       "      <th>education_undergraduate</th>\n",
       "      <td>7495.0</td>\n",
       "      <td>0.194930</td>\n",
       "      <td>0.396173</td>\n",
       "      <td>0.0</td>\n",
       "      <td>0.0</td>\n",
       "      <td>0.0</td>\n",
       "      <td>0.0</td>\n",
       "      <td>1.0</td>\n",
       "    </tr>\n",
       "    <tr>\n",
       "      <th>marriage_divorced</th>\n",
       "      <td>7495.0</td>\n",
       "      <td>0.065777</td>\n",
       "      <td>0.247909</td>\n",
       "      <td>0.0</td>\n",
       "      <td>0.0</td>\n",
       "      <td>0.0</td>\n",
       "      <td>0.0</td>\n",
       "      <td>1.0</td>\n",
       "    </tr>\n",
       "    <tr>\n",
       "      <th>marriage_married</th>\n",
       "      <td>7495.0</td>\n",
       "      <td>0.551167</td>\n",
       "      <td>0.497408</td>\n",
       "      <td>0.0</td>\n",
       "      <td>0.0</td>\n",
       "      <td>1.0</td>\n",
       "      <td>1.0</td>\n",
       "      <td>1.0</td>\n",
       "    </tr>\n",
       "    <tr>\n",
       "      <th>marriage_single</th>\n",
       "      <td>7495.0</td>\n",
       "      <td>0.371047</td>\n",
       "      <td>0.483117</td>\n",
       "      <td>0.0</td>\n",
       "      <td>0.0</td>\n",
       "      <td>0.0</td>\n",
       "      <td>1.0</td>\n",
       "      <td>1.0</td>\n",
       "    </tr>\n",
       "    <tr>\n",
       "      <th>marriage_widow</th>\n",
       "      <td>7495.0</td>\n",
       "      <td>0.003336</td>\n",
       "      <td>0.057662</td>\n",
       "      <td>0.0</td>\n",
       "      <td>0.0</td>\n",
       "      <td>0.0</td>\n",
       "      <td>0.0</td>\n",
       "      <td>1.0</td>\n",
       "    </tr>\n",
       "    <tr>\n",
       "      <th>workingtime_1-3 years</th>\n",
       "      <td>7495.0</td>\n",
       "      <td>0.301801</td>\n",
       "      <td>0.459070</td>\n",
       "      <td>0.0</td>\n",
       "      <td>0.0</td>\n",
       "      <td>0.0</td>\n",
       "      <td>1.0</td>\n",
       "      <td>1.0</td>\n",
       "    </tr>\n",
       "    <tr>\n",
       "      <th>workingtime_3-5 years</th>\n",
       "      <td>7495.0</td>\n",
       "      <td>0.093929</td>\n",
       "      <td>0.291750</td>\n",
       "      <td>0.0</td>\n",
       "      <td>0.0</td>\n",
       "      <td>0.0</td>\n",
       "      <td>0.0</td>\n",
       "      <td>1.0</td>\n",
       "    </tr>\n",
       "    <tr>\n",
       "      <th>workingtime_above 5 years</th>\n",
       "      <td>7495.0</td>\n",
       "      <td>0.117545</td>\n",
       "      <td>0.322090</td>\n",
       "      <td>0.0</td>\n",
       "      <td>0.0</td>\n",
       "      <td>0.0</td>\n",
       "      <td>0.0</td>\n",
       "      <td>1.0</td>\n",
       "    </tr>\n",
       "    <tr>\n",
       "      <th>workingtime_below 1 year</th>\n",
       "      <td>7495.0</td>\n",
       "      <td>0.393062</td>\n",
       "      <td>0.488463</td>\n",
       "      <td>0.0</td>\n",
       "      <td>0.0</td>\n",
       "      <td>0.0</td>\n",
       "      <td>1.0</td>\n",
       "      <td>1.0</td>\n",
       "    </tr>\n",
       "  </tbody>\n",
       "</table>\n",
       "</div>"
      ],
      "text/plain": [
       "                            count         mean          std  min     25%  \\\n",
       "code                       7495.0  4309.225217  2818.603191  1.0  1874.5   \n",
       "income_10000-20000         7495.0     0.141694     0.348760  0.0     0.0   \n",
       "income_1001-2000           7495.0     0.006938     0.083010  0.0     0.0   \n",
       "income_2000-5000           7495.0     0.300867     0.458666  0.0     0.0   \n",
       "income_20000-50000         7495.0     0.089393     0.285329  0.0     0.0   \n",
       "income_5000-10000          7495.0     0.330620     0.470468  0.0     0.0   \n",
       "income_5000-10000 ,        7495.0     0.000267     0.016334  0.0     0.0   \n",
       "income_above 50000         7495.0     0.051234     0.220490  0.0     0.0   \n",
       "income_below 1000          7495.0     0.004136     0.064184  0.0     0.0   \n",
       "education_highschool       7495.0     0.327018     0.469155  0.0     0.0   \n",
       "education_junior college   7495.0     0.428686     0.494921  0.0     0.0   \n",
       "education_master           7495.0     0.014810     0.120799  0.0     0.0   \n",
       "education_undergraduate    7495.0     0.194930     0.396173  0.0     0.0   \n",
       "marriage_divorced          7495.0     0.065777     0.247909  0.0     0.0   \n",
       "marriage_married           7495.0     0.551167     0.497408  0.0     0.0   \n",
       "marriage_single            7495.0     0.371047     0.483117  0.0     0.0   \n",
       "marriage_widow             7495.0     0.003336     0.057662  0.0     0.0   \n",
       "workingtime_1-3 years      7495.0     0.301801     0.459070  0.0     0.0   \n",
       "workingtime_3-5 years      7495.0     0.093929     0.291750  0.0     0.0   \n",
       "workingtime_above 5 years  7495.0     0.117545     0.322090  0.0     0.0   \n",
       "workingtime_below 1 year   7495.0     0.393062     0.488463  0.0     0.0   \n",
       "\n",
       "                              50%     75%     max  \n",
       "code                       3810.0  6645.5  9756.0  \n",
       "income_10000-20000            0.0     0.0     1.0  \n",
       "income_1001-2000              0.0     0.0     1.0  \n",
       "income_2000-5000              0.0     1.0     1.0  \n",
       "income_20000-50000            0.0     0.0     1.0  \n",
       "income_5000-10000             0.0     1.0     1.0  \n",
       "income_5000-10000 ,           0.0     0.0     1.0  \n",
       "income_above 50000            0.0     0.0     1.0  \n",
       "income_below 1000             0.0     0.0     1.0  \n",
       "education_highschool          0.0     1.0     1.0  \n",
       "education_junior college      0.0     1.0     1.0  \n",
       "education_master              0.0     0.0     1.0  \n",
       "education_undergraduate       0.0     0.0     1.0  \n",
       "marriage_divorced             0.0     0.0     1.0  \n",
       "marriage_married              1.0     1.0     1.0  \n",
       "marriage_single               0.0     1.0     1.0  \n",
       "marriage_widow                0.0     0.0     1.0  \n",
       "workingtime_1-3 years         0.0     1.0     1.0  \n",
       "workingtime_3-5 years         0.0     0.0     1.0  \n",
       "workingtime_above 5 years     0.0     0.0     1.0  \n",
       "workingtime_below 1 year      0.0     1.0     1.0  "
      ]
     },
     "execution_count": 7,
     "metadata": {},
     "output_type": "execute_result"
    }
   ],
   "source": [
    "df1.describe().transpose()"
   ]
  },
  {
   "cell_type": "markdown",
   "metadata": {},
   "source": [
    "Here X is the original dataset we used and df1 is the dummy variable we derived, we use code to connect them"
   ]
  },
  {
   "cell_type": "code",
   "execution_count": 8,
   "metadata": {},
   "outputs": [
    {
     "name": "stdout",
     "output_type": "stream",
     "text": [
      "Labels counts in y: [2659 4836]\n",
      "Labels counts in y_train: [1861 3385]\n",
      "Labels counts in y_test: [ 798 1451]\n"
     ]
    }
   ],
   "source": [
    "from sklearn.model_selection import train_test_split\n",
    "X_train, X_test, y_train, y_test = train_test_split(\n",
    "    X1, y, test_size=0.3, random_state=1, stratify=y)\n",
    "print('Labels counts in y:', np.bincount(y.astype(np.int32)))\n",
    "print('Labels counts in y_train:', np.bincount(y_train.astype(np.int32)))\n",
    "print('Labels counts in y_test:', np.bincount(y_test.astype(np.int32)))"
   ]
  },
  {
   "cell_type": "markdown",
   "metadata": {},
   "source": [
    "# Basic methods of classifying"
   ]
  },
  {
   "cell_type": "code",
   "execution_count": 9,
   "metadata": {},
   "outputs": [],
   "source": [
    "from sklearn.preprocessing import StandardScaler\n",
    "\n",
    "sc = StandardScaler()\n",
    "sc.fit(X_train)\n",
    "X_train_std = sc.transform(X_train)\n",
    "X_test_std = sc.transform(X_test)"
   ]
  },
  {
   "cell_type": "code",
   "execution_count": 10,
   "metadata": {},
   "outputs": [
    {
     "name": "stdout",
     "output_type": "stream",
     "text": [
      "Misclassified samples: 46\n",
      "Accuracy: 0.98\n"
     ]
    }
   ],
   "source": [
    "from sklearn.linear_model import LogisticRegression\n",
    "\n",
    "lr = LogisticRegression(C=100.0, random_state=1)\n",
    "lr.fit(X_train_std, y_train)\n",
    "\n",
    "from sklearn.metrics import accuracy_score\n",
    "y_pred = lr.predict(X_test_std)\n",
    "\n",
    "print('Misclassified samples: %d' % (y_test != y_pred).sum())\n",
    "print('Accuracy: %.2f' % accuracy_score(y_test, y_pred))"
   ]
  },
  {
   "cell_type": "code",
   "execution_count": 11,
   "metadata": {},
   "outputs": [
    {
     "name": "stdout",
     "output_type": "stream",
     "text": [
      "Misclassified samples: 62\n",
      "Accuracy: 0.97\n"
     ]
    }
   ],
   "source": [
    "from sklearn.linear_model import Perceptron\n",
    "\n",
    "ppn = Perceptron(max_iter=40, eta0=0.1, random_state=1)\n",
    "ppn.fit(X_train_std, y_train)\n",
    "y0_pred = ppn.predict(X_test_std)\n",
    "from sklearn.metrics import accuracy_score\n",
    "print('Misclassified samples: %d' % (y_test != y0_pred).sum())\n",
    "print('Accuracy: %.2f' % accuracy_score(y_test, y0_pred))"
   ]
  },
  {
   "cell_type": "code",
   "execution_count": 12,
   "metadata": {},
   "outputs": [
    {
     "name": "stdout",
     "output_type": "stream",
     "text": [
      "Misclassified samples: 46\n",
      "Accuracy: 0.98\n"
     ]
    }
   ],
   "source": [
    "from sklearn.svm import SVC\n",
    "\n",
    "svm = SVC(kernel='linear', C=1.0, random_state=1)\n",
    "svm.fit(X_train_std, y_train)\n",
    "y1_pred = svm.predict(X_test_std)\n",
    "print('Misclassified samples: %d' % (y_test != y1_pred).sum())\n",
    "print('Accuracy: %.2f' % accuracy_score(y_test, y1_pred))"
   ]
  },
  {
   "cell_type": "code",
   "execution_count": 13,
   "metadata": {},
   "outputs": [
    {
     "name": "stdout",
     "output_type": "stream",
     "text": [
      "Misclassified samples: 104\n",
      "Accuracy: 0.95\n"
     ]
    }
   ],
   "source": [
    "from sklearn.svm import SVC\n",
    "\n",
    "svm = SVC(kernel='rbf', random_state=1, gamma=0.2, C=1.0)\n",
    "svm.fit(X_train_std, y_train)\n",
    "y2_pred = svm.predict(X_test_std)\n",
    "print('Misclassified samples: %d' % (y_test != y2_pred).sum())\n",
    "print('Accuracy: %.2f' % accuracy_score(y_test, y2_pred))\n"
   ]
  },
  {
   "cell_type": "code",
   "execution_count": 14,
   "metadata": {},
   "outputs": [
    {
     "name": "stdout",
     "output_type": "stream",
     "text": [
      "Misclassified samples: 75\n",
      "Accuracy: 0.97\n"
     ]
    }
   ],
   "source": [
    "from sklearn.tree import DecisionTreeClassifier\n",
    "\n",
    "tree = DecisionTreeClassifier(criterion='gini', \n",
    "                              max_depth=4, \n",
    "                              random_state=1)\n",
    "tree.fit(X_train, y_train)\n",
    "y3_pred = tree.predict(X_test_std)\n",
    "print('Misclassified samples: %d' % (y_test != y3_pred).sum())\n",
    "print('Accuracy: %.2f' % accuracy_score(y_test, y3_pred))"
   ]
  },
  {
   "cell_type": "code",
   "execution_count": 15,
   "metadata": {},
   "outputs": [
    {
     "name": "stdout",
     "output_type": "stream",
     "text": [
      "Misclassified samples: 68\n",
      "Accuracy: 0.97\n"
     ]
    }
   ],
   "source": [
    "from sklearn.ensemble import RandomForestClassifier\n",
    "\n",
    "forest = RandomForestClassifier(criterion='gini',\n",
    "                                n_estimators=25, \n",
    "                                random_state=1,\n",
    "                                n_jobs=2)\n",
    "forest.fit(X_train, y_train)\n",
    "y4_pred = forest.predict(X_test_std)\n",
    "print('Misclassified samples: %d' % (y_test != y4_pred).sum())\n",
    "print('Accuracy: %.2f' % accuracy_score(y_test, y4_pred))"
   ]
  },
  {
   "cell_type": "code",
   "execution_count": 16,
   "metadata": {},
   "outputs": [
    {
     "name": "stdout",
     "output_type": "stream",
     "text": [
      "Misclassified samples: 86\n",
      "Accuracy: 0.96\n"
     ]
    }
   ],
   "source": [
    "from sklearn.neighbors import KNeighborsClassifier\n",
    "\n",
    "knn = KNeighborsClassifier(n_neighbors=5, \n",
    "                           p=2, \n",
    "                           metric='minkowski')\n",
    "knn.fit(X_train_std, y_train)\n",
    "y5_pred = knn.predict(X_test_std)\n",
    "print('Misclassified samples: %d' % (y_test != y5_pred).sum())\n",
    "print('Accuracy: %.2f' % accuracy_score(y_test, y5_pred))"
   ]
  },
  {
   "cell_type": "markdown",
   "metadata": {},
   "source": [
    "Among all explaining variables, there are three core explaining variables directly related with monthly payment. \n",
    "Later we will see how themselves explain this model."
   ]
  },
  {
   "cell_type": "code",
   "execution_count": 17,
   "metadata": {},
   "outputs": [],
   "source": [
    "X2 = df.iloc[:, [1,2,3]]\n",
    "y = df.iloc[:, 5]"
   ]
  },
  {
   "cell_type": "code",
   "execution_count": 18,
   "metadata": {},
   "outputs": [],
   "source": [
    "from sklearn.model_selection import train_test_split\n",
    "X2_train, X2_test, y2_train, y2_test = train_test_split(\n",
    "    X2, y, test_size=0.3, random_state=1, stratify=y)\n"
   ]
  },
  {
   "cell_type": "code",
   "execution_count": 19,
   "metadata": {
    "scrolled": false
   },
   "outputs": [
    {
     "name": "stdout",
     "output_type": "stream",
     "text": [
      "Labels counts in y: [2659 4836]\n",
      "Labels counts in y_train: [1861 3385]\n",
      "Labels counts in y_test: [ 798 1451]\n"
     ]
    }
   ],
   "source": [
    "from sklearn.preprocessing import StandardScaler\n",
    "\n",
    "sc = StandardScaler()\n",
    "sc.fit(X2_train)\n",
    "X2_train_std = sc.transform(X2_train)\n",
    "X2_test_std = sc.transform(X2_test)\n",
    "print('Labels counts in y:', np.bincount(y.astype(np.int32)))\n",
    "print('Labels counts in y_train:', np.bincount(y_train.astype(np.int32)))\n",
    "print('Labels counts in y_test:', np.bincount(y_test.astype(np.int32)))"
   ]
  },
  {
   "cell_type": "markdown",
   "metadata": {},
   "source": [
    "I change the variable type of y to make it works. To be more accurate,that should be ynew=..."
   ]
  },
  {
   "cell_type": "code",
   "execution_count": 20,
   "metadata": {},
   "outputs": [
    {
     "name": "stdout",
     "output_type": "stream",
     "text": [
      "Misclassified samples: 104\n",
      "Accuracy: 0.95\n"
     ]
    }
   ],
   "source": [
    "from sklearn.linear_model import Perceptron\n",
    "\n",
    "ppn = Perceptron(max_iter=40, eta0=0.1, random_state=1)\n",
    "ppn.fit(X2_train_std, y2_train)\n",
    "y21_pred = ppn.predict(X2_test_std)\n",
    "from sklearn.metrics import accuracy_score\n",
    "print('Misclassified samples: %d' % (y2_test != y2_pred).sum())\n",
    "print('Accuracy: %.2f' % accuracy_score(y2_test, y2_pred))"
   ]
  },
  {
   "cell_type": "code",
   "execution_count": 21,
   "metadata": {},
   "outputs": [
    {
     "name": "stdout",
     "output_type": "stream",
     "text": [
      "Misclassified samples: 100\n",
      "Accuracy: 0.96\n"
     ]
    }
   ],
   "source": [
    "from sklearn.linear_model import LogisticRegression\n",
    "\n",
    "lr = LogisticRegression(C=100.0, random_state=1)\n",
    "lr.fit(X2_train_std, y2_train)\n",
    "\n",
    "from sklearn.metrics import accuracy_score\n",
    "y22_pred = lr.predict(X2_test_std)\n",
    "\n",
    "print('Misclassified samples: %d' % (y2_test != y22_pred).sum())\n",
    "print('Accuracy: %.2f' % accuracy_score(y2_test, y22_pred))"
   ]
  },
  {
   "cell_type": "code",
   "execution_count": 22,
   "metadata": {},
   "outputs": [
    {
     "name": "stdout",
     "output_type": "stream",
     "text": [
      "Misclassified samples: 91\n",
      "Accuracy: 0.96\n"
     ]
    }
   ],
   "source": [
    "from sklearn.svm import SVC\n",
    "\n",
    "svm = SVC(kernel='linear', C=1.0, random_state=1)\n",
    "svm.fit(X2_train_std, y2_train)\n",
    "y23_pred = svm.predict(X2_test_std)\n",
    "print('Misclassified samples: %d' % (y2_test != y23_pred).sum())\n",
    "print('Accuracy: %.2f' % accuracy_score(y2_test, y23_pred))"
   ]
  },
  {
   "cell_type": "code",
   "execution_count": 23,
   "metadata": {},
   "outputs": [
    {
     "name": "stdout",
     "output_type": "stream",
     "text": [
      "Misclassified samples: 90\n",
      "Accuracy: 0.96\n"
     ]
    }
   ],
   "source": [
    "from sklearn.svm import SVC\n",
    "\n",
    "svm = SVC(kernel='rbf', random_state=1, gamma=0.2, C=1.0)\n",
    "svm.fit(X2_train_std, y2_train)\n",
    "y24_pred = svm.predict(X2_test_std)\n",
    "print('Misclassified samples: %d' % (y2_test != y24_pred).sum())\n",
    "print('Accuracy: %.2f' % accuracy_score(y2_test, y24_pred))"
   ]
  },
  {
   "cell_type": "code",
   "execution_count": 24,
   "metadata": {},
   "outputs": [
    {
     "name": "stdout",
     "output_type": "stream",
     "text": [
      "Misclassified samples: 95\n",
      "Accuracy: 0.96\n"
     ]
    }
   ],
   "source": [
    "from sklearn.tree import DecisionTreeClassifier\n",
    "\n",
    "tree = DecisionTreeClassifier(criterion='gini', \n",
    "                              max_depth=4, \n",
    "                              random_state=1)\n",
    "tree.fit(X2_train, y2_train)\n",
    "y25_pred = tree.predict(X2_test)\n",
    "print('Misclassified samples: %d' % (y2_test != y25_pred).sum())\n",
    "print('Accuracy: %.2f' % accuracy_score(y2_test, y25_pred))"
   ]
  },
  {
   "cell_type": "code",
   "execution_count": 25,
   "metadata": {},
   "outputs": [
    {
     "name": "stdout",
     "output_type": "stream",
     "text": [
      "Misclassified samples: 101\n",
      "Accuracy: 0.96\n"
     ]
    }
   ],
   "source": [
    "from sklearn.ensemble import RandomForestClassifier\n",
    "\n",
    "forest = RandomForestClassifier(criterion='gini',\n",
    "                                n_estimators=50, \n",
    "                                random_state=1,\n",
    "                                n_jobs=2)\n",
    "forest.fit(X2_train, y2_train)\n",
    "y26_pred = forest.predict(X2_test)\n",
    "print('Misclassified samples: %d' % (y2_test != y26_pred).sum())\n",
    "print('Accuracy: %.2f' % accuracy_score(y2_test, y26_pred))"
   ]
  },
  {
   "cell_type": "code",
   "execution_count": 26,
   "metadata": {},
   "outputs": [
    {
     "name": "stdout",
     "output_type": "stream",
     "text": [
      "Misclassified samples: 93\n",
      "Accuracy: 0.96\n"
     ]
    }
   ],
   "source": [
    "from sklearn.neighbors import KNeighborsClassifier\n",
    "\n",
    "knn = KNeighborsClassifier(n_neighbors=5, \n",
    "                           p=2, \n",
    "                           metric='minkowski')\n",
    "knn.fit(X2_train_std, y2_train)\n",
    "y27_pred = knn.predict(X2_test_std)\n",
    "print('Misclassified samples: %d' % (y2_test != y27_pred).sum())\n",
    "print('Accuracy: %.2f' % accuracy_score(y2_test, y27_pred))"
   ]
  },
  {
   "cell_type": "markdown",
   "metadata": {},
   "source": [
    "# PCA method"
   ]
  },
  {
   "cell_type": "markdown",
   "metadata": {},
   "source": [
    "Using PCA method to reduce dimensions"
   ]
  },
  {
   "cell_type": "code",
   "execution_count": 27,
   "metadata": {},
   "outputs": [
    {
     "name": "stdout",
     "output_type": "stream",
     "text": [
      "\n",
      "Eigenvalues \n",
      "[5.52199982 2.29327396 2.18266813 0.03094458 0.02101557 0.00988585\n",
      " 0.01298909 0.13463524 0.17697818 0.20354224 1.61930767 0.34575199\n",
      " 0.42751013 1.48273452 1.45739045 1.4027744  0.50072109 0.58635408\n",
      " 0.64679879 0.67624117 1.26531135 0.75068643 1.19373079 1.17697714\n",
      " 1.16050383 0.83969145 1.10679197 0.88117803 0.90606133 0.9264189\n",
      " 1.0597046  0.96643081 1.02888901 1.02026015 0.99089779 0.99981315\n",
      " 0.         0.         0.         0.         0.        ]\n"
     ]
    }
   ],
   "source": [
    "import numpy as np\n",
    "cov_mat = np.cov(X_train_std.T)\n",
    "eigen_vals, eigen_vecs = np.linalg.eig(cov_mat)\n",
    "print('\\nEigenvalues \\n%s' % eigen_vals)"
   ]
  },
  {
   "cell_type": "code",
   "execution_count": 28,
   "metadata": {},
   "outputs": [],
   "source": [
    "tot = sum(eigen_vals)\n",
    "var_exp = [(i / tot) for i in sorted(eigen_vals, reverse=True)]\n",
    "cum_var_exp = np.cumsum(var_exp)"
   ]
  },
  {
   "cell_type": "code",
   "execution_count": 29,
   "metadata": {},
   "outputs": [
    {
     "data": {
      "text/plain": [
       "array([0.15335964, 0.21704956, 0.27766767, 0.32263986, 0.36381908,\n",
       "       0.40429443, 0.44325296, 0.4783938 , 0.51154667, 0.54423424,\n",
       "       0.57646432, 0.60720268, 0.6366333 , 0.66520811, 0.69354326,\n",
       "       0.72131056, 0.74883025, 0.77567043, 0.80139939, 0.82656296,\n",
       "       0.85103546, 0.87435578, 0.8952042 , 0.9139851 , 0.93194831,\n",
       "       0.94823282, 0.96213908, 0.9740121 , 0.98361449, 0.98926737,\n",
       "       0.99418249, 0.99792164, 0.99878105, 0.99936471, 0.99972545,\n",
       "       1.        , 1.        , 1.        , 1.        , 1.        ,\n",
       "       1.        ])"
      ]
     },
     "execution_count": 29,
     "metadata": {},
     "output_type": "execute_result"
    }
   ],
   "source": [
    "cum_var_exp"
   ]
  },
  {
   "cell_type": "code",
   "execution_count": 30,
   "metadata": {},
   "outputs": [
    {
     "data": {
      "text/plain": [
       "Text(0.5,0,'Principal component index')"
      ]
     },
     "execution_count": 30,
     "metadata": {},
     "output_type": "execute_result"
    },
    {
     "data": {
      "image/png": "[encoded data removed]",
      "text/plain": [
       "<matplotlib.figure.Figure at 0x2049034f8d0>"
      ]
     },
     "metadata": {},
     "output_type": "display_data"
    }
   ],
   "source": [
    "import matplotlib.pyplot as plt\n",
    "\n",
    "\n",
    "plt.step(range(0,41), cum_var_exp, where='mid',\n",
    "         label='cumulative explained variance')\n",
    "plt.ylabel('Explained variance ratio')\n",
    "plt.xlabel('Principal component index')"
   ]
  },
  {
   "cell_type": "markdown",
   "metadata": {},
   "source": [
    "The result of PCA index is not so good as even 20th PCA component has some explaining power.\n",
    "But luckily our model itself has high explaining power, we try to combine PCA method with Logisitic regression to compare the accuracy of PCA component variables and our core explaining variables"
   ]
  },
  {
   "cell_type": "code",
   "execution_count": 31,
   "metadata": {},
   "outputs": [
    {
     "data": {
      "text/plain": [
       "array([1.53359645e-01, 6.36899115e-02, 6.06181128e-02, 4.49721944e-02,\n",
       "       4.11792188e-02, 4.04753512e-02, 3.89585279e-02, 3.51408376e-02,\n",
       "       3.31528678e-02, 3.26875773e-02, 3.22300725e-02, 3.07383608e-02,\n",
       "       2.94306276e-02, 2.85748024e-02, 2.83351575e-02, 2.77672934e-02,\n",
       "       2.75196918e-02, 2.68401830e-02, 2.57289529e-02, 2.51635727e-02,\n",
       "       2.44725015e-02, 2.33203164e-02, 2.08484260e-02, 1.87808962e-02,\n",
       "       1.79632083e-02, 1.62845086e-02, 1.39062678e-02, 1.18730177e-02,\n",
       "       9.60239104e-03, 5.65287340e-03, 4.91512356e-03, 3.73915479e-03,\n",
       "       8.59407704e-04, 5.83654598e-04, 3.60739300e-04, 2.74554554e-04,\n",
       "       1.28052055e-33, 1.28052055e-33, 1.28052055e-33, 1.28052055e-33,\n",
       "       1.28052055e-33])"
      ]
     },
     "execution_count": 31,
     "metadata": {},
     "output_type": "execute_result"
    }
   ],
   "source": [
    "from sklearn.decomposition import PCA\n",
    "\n",
    "pca = PCA()\n",
    "X_train_pca = pca.fit_transform(X_train_std)\n",
    "pca.explained_variance_ratio_"
   ]
  },
  {
   "cell_type": "code",
   "execution_count": 32,
   "metadata": {},
   "outputs": [
    {
     "data": {
      "image/png": "[encoded data removed]",
      "text/plain": [
       "<matplotlib.figure.Figure at 0x204924b0a58>"
      ]
     },
     "metadata": {},
     "output_type": "display_data"
    }
   ],
   "source": [
    "plt.bar(range(0,41), pca.explained_variance_ratio_, alpha=0.5, align='center')\n",
    "plt.step(range(0,41), np.cumsum(pca.explained_variance_ratio_), where='mid')\n",
    "plt.ylabel('Explained variance ratio')\n",
    "plt.xlabel('Principal components')\n",
    "\n",
    "plt.show()"
   ]
  },
  {
   "cell_type": "markdown",
   "metadata": {},
   "source": [
    "Here we pick 5 components using PCA method"
   ]
  },
  {
   "cell_type": "code",
   "execution_count": 33,
   "metadata": {},
   "outputs": [
    {
     "data": {
      "text/plain": [
       "array([0.15335963, 0.06368005, 0.06060264, 0.04436394, 0.04095124])"
      ]
     },
     "execution_count": 33,
     "metadata": {},
     "output_type": "execute_result"
    }
   ],
   "source": [
    "pca = PCA(n_components=5)\n",
    "X_train_pca = pca.fit_transform(X_train_std)\n",
    "X_test_pca = pca.transform(X_test_std)\n",
    "pca.explained_variance_ratio_"
   ]
  },
  {
   "cell_type": "code",
   "execution_count": 34,
   "metadata": {},
   "outputs": [
    {
     "name": "stdout",
     "output_type": "stream",
     "text": [
      "Misclassified samples: 86\n",
      "Accuracy: 0.96\n"
     ]
    }
   ],
   "source": [
    "lr = LogisticRegression(C=100.0, random_state=1)\n",
    "lr.fit(X_train_pca, y_train)\n",
    "\n",
    "from sklearn.metrics import accuracy_score\n",
    "ypca_pred = lr.predict(X_test_pca)\n",
    "\n",
    "print('Misclassified samples: %d' % (y_test != ypca_pred).sum())\n",
    "print('Accuracy: %.2f' % accuracy_score(y_test, ypca_pred))"
   ]
  },
  {
   "cell_type": "code",
   "execution_count": 35,
   "metadata": {},
   "outputs": [
    {
     "data": {
      "text/plain": [
       "array([0.15335964, 0.06368989, 0.06061657])"
      ]
     },
     "execution_count": 35,
     "metadata": {},
     "output_type": "execute_result"
    }
   ],
   "source": [
    "pca = PCA(n_components=3)\n",
    "X_train_pca1 = pca.fit_transform(X_train_std)\n",
    "X_test_pca1 = pca.transform(X_test_std)\n",
    "pca.explained_variance_ratio_"
   ]
  },
  {
   "cell_type": "code",
   "execution_count": 36,
   "metadata": {},
   "outputs": [
    {
     "name": "stdout",
     "output_type": "stream",
     "text": [
      "Misclassified samples: 87\n",
      "Accuracy: 0.96\n"
     ]
    }
   ],
   "source": [
    "lr = LogisticRegression(C=100.0, random_state=1)\n",
    "lr.fit(X_train_pca1, y_train)\n",
    "\n",
    "from sklearn.metrics import accuracy_score\n",
    "ypca1_pred = lr.predict(X_test_pca1)\n",
    "\n",
    "print('Misclassified samples: %d' % (y_test != ypca1_pred).sum())\n",
    "print('Accuracy: %.2f' % accuracy_score(y_test, ypca1_pred))"
   ]
  },
  {
   "cell_type": "markdown",
   "metadata": {},
   "source": [
    "To be a comparision, PCA model here did slightly better than the model with 3 explaining variables(interest maturity principal).\n",
    "With lower misclassified samples."
   ]
  },
  {
   "cell_type": "code",
   "execution_count": 37,
   "metadata": {},
   "outputs": [
    {
     "data": {
      "text/plain": [
       "array([0.15335964, 0.06367605, 0.06061234, 0.04492529, 0.04109597,\n",
       "       0.04028826, 0.03878037, 0.03494159, 0.03281486, 0.03205244])"
      ]
     },
     "execution_count": 37,
     "metadata": {},
     "output_type": "execute_result"
    }
   ],
   "source": [
    "pca = PCA(n_components=10)\n",
    "X_train_pca2 = pca.fit_transform(X_train_std)\n",
    "X_test_pca2 = pca.transform(X_test_std)\n",
    "pca.explained_variance_ratio_"
   ]
  },
  {
   "cell_type": "code",
   "execution_count": 38,
   "metadata": {},
   "outputs": [
    {
     "name": "stdout",
     "output_type": "stream",
     "text": [
      "Misclassified samples: 77\n",
      "Accuracy: 0.97\n"
     ]
    }
   ],
   "source": [
    "lr = LogisticRegression(C=100.0, random_state=1)\n",
    "lr.fit(X_train_pca2, y_train)\n",
    "\n",
    "ypca2_pred = lr.predict(X_test_pca2)\n",
    "\n",
    "print('Misclassified samples: %d' % (y_test != ypca2_pred).sum())\n",
    "print('Accuracy: %.2f' % accuracy_score(y_test, ypca2_pred))"
   ]
  },
  {
   "cell_type": "code",
   "execution_count": 39,
   "metadata": {},
   "outputs": [
    {
     "data": {
      "text/plain": [
       "array([0.15335964, 0.06368962])"
      ]
     },
     "execution_count": 39,
     "metadata": {},
     "output_type": "execute_result"
    }
   ],
   "source": [
    "pca = PCA(n_components=2)\n",
    "X_train_pca3 = pca.fit_transform(X_train_std)\n",
    "X_test_pca3 = pca.transform(X_test_std)\n",
    "pca.explained_variance_ratio_"
   ]
  },
  {
   "cell_type": "code",
   "execution_count": 40,
   "metadata": {},
   "outputs": [
    {
     "name": "stdout",
     "output_type": "stream",
     "text": [
      "Misclassified samples: 84\n",
      "Accuracy: 0.96\n"
     ]
    }
   ],
   "source": [
    "lr = LogisticRegression(C=100.0, random_state=1)\n",
    "lr.fit(X_train_pca3, y_train)\n",
    "\n",
    "ypca3_pred = lr.predict(X_test_pca3)\n",
    "\n",
    "print('Misclassified samples: %d' % (y_test != ypca3_pred).sum())\n",
    "print('Accuracy: %.2f' % accuracy_score(y_test, ypca3_pred))"
   ]
  },
  {
   "cell_type": "markdown",
   "metadata": {},
   "source": [
    "When we add the PCA components to be 10(That sounds weird actually),the classify accuracy change little.\n",
    "But when we try to cut the dimension more to only leave two components, the accuarcy drop."
   ]
  },
  {
   "cell_type": "markdown",
   "metadata": {},
   "source": [
    "Then we use majorty vote to see whether it can improve the predicting power of our model"
   ]
  },
  {
   "cell_type": "code",
   "execution_count": 41,
   "metadata": {},
   "outputs": [],
   "source": [
    "from sklearn.preprocessing import LabelEncoder\n",
    "\n",
    "X = df.iloc[:, [1,2,3]]\n",
    "y = df.iloc[:, 5]"
   ]
  },
  {
   "cell_type": "code",
   "execution_count": 42,
   "metadata": {},
   "outputs": [],
   "source": [
    "from sklearn.model_selection import train_test_split\n",
    "\n",
    "X_train, X_test, y_train, y_test = \\\n",
    "    train_test_split(X, y, \n",
    "                     test_size=0.40,\n",
    "                     stratify=y,\n",
    "                     random_state=1)"
   ]
  },
  {
   "cell_type": "code",
   "execution_count": 43,
   "metadata": {},
   "outputs": [
    {
     "data": {
      "image/png": "[encoded data removed]",
      "text/plain": [
       "<matplotlib.figure.Figure at 0x20490361748>"
      ]
     },
     "metadata": {},
     "output_type": "display_data"
    }
   ],
   "source": [
    "from sklearn.model_selection import validation_curve\n",
    "from sklearn.pipeline import make_pipeline\n",
    "\n",
    "pipe_lr = make_pipeline(StandardScaler(),\n",
    "                        LogisticRegression(penalty='l2', random_state=1))\n",
    "\n",
    "\n",
    "param_range = [0.001, 0.01, 0.1, 1.0, 10.0, 100.0]\n",
    "train_scores, test_scores = validation_curve(\n",
    "                estimator=pipe_lr, \n",
    "                X=X_train, \n",
    "                y=y_train, \n",
    "                param_name='logisticregression__C', \n",
    "                param_range=param_range,\n",
    "                cv=10)\n",
    "\n",
    "train_mean = np.mean(train_scores, axis=1)\n",
    "train_std = np.std(train_scores, axis=1)\n",
    "test_mean = np.mean(test_scores, axis=1)\n",
    "test_std = np.std(test_scores, axis=1)\n",
    "\n",
    "plt.plot(param_range, train_mean, \n",
    "         color='blue', marker='o', \n",
    "         markersize=5, label='training accuracy')\n",
    "\n",
    "plt.fill_between(param_range, train_mean + train_std,\n",
    "                 train_mean - train_std, alpha=0.15,\n",
    "                 color='blue')\n",
    "\n",
    "plt.plot(param_range, test_mean, \n",
    "         color='green', linestyle='--', \n",
    "         marker='s', markersize=5, \n",
    "         label='validation accuracy')\n",
    "\n",
    "plt.fill_between(param_range, \n",
    "                 test_mean + test_std,\n",
    "                 test_mean - test_std, \n",
    "                 alpha=0.15, color='green')\n",
    "\n",
    "plt.grid()\n",
    "plt.xscale('log')\n",
    "plt.legend(loc='lower right')\n",
    "plt.xlabel('Parameter C')\n",
    "plt.ylabel('Accuracy')\n",
    "plt.ylim([0.8, 1.0])\n",
    "plt.tight_layout()\n",
    "\n",
    "plt.show()"
   ]
  },
  {
   "cell_type": "markdown",
   "metadata": {},
   "source": [
    "Parameter above 0.1 all work well here and there isn't much difference if we increase C after 0.1"
   ]
  },
  {
   "cell_type": "code",
   "execution_count": 44,
   "metadata": {},
   "outputs": [
    {
     "data": {
      "image/png": "[encoded data removed]",
      "text/plain": [
       "<matplotlib.figure.Figure at 0x204903616d8>"
      ]
     },
     "metadata": {},
     "output_type": "display_data"
    }
   ],
   "source": [
    "import matplotlib.pyplot as plt\n",
    "from sklearn.model_selection import learning_curve\n",
    "\n",
    "\n",
    "pipe_lr = make_pipeline(StandardScaler(),\n",
    "                        LogisticRegression(penalty='l2', random_state=1))\n",
    "\n",
    "train_sizes, train_scores, test_scores =\\\n",
    "                learning_curve(estimator=pipe_lr,\n",
    "                               X=X_train,\n",
    "                               y=y_train,\n",
    "                               train_sizes=np.linspace(0.1, 1.0, 10),\n",
    "                               cv=10,\n",
    "                               n_jobs=1)\n",
    "\n",
    "train_mean = np.mean(train_scores, axis=1)\n",
    "train_std = np.std(train_scores, axis=1)\n",
    "test_mean = np.mean(test_scores, axis=1)\n",
    "test_std = np.std(test_scores, axis=1)\n",
    "\n",
    "plt.plot(train_sizes, train_mean,\n",
    "         color='blue', marker='o',\n",
    "         markersize=5, label='training accuracy')\n",
    "\n",
    "plt.fill_between(train_sizes,\n",
    "                 train_mean + train_std,\n",
    "                 train_mean - train_std,\n",
    "                 alpha=0.15, color='blue')\n",
    "\n",
    "plt.plot(train_sizes, test_mean,\n",
    "         color='green', linestyle='--',\n",
    "         marker='s', markersize=5,\n",
    "         label='validation accuracy')\n",
    "\n",
    "plt.fill_between(train_sizes,\n",
    "                 test_mean + test_std,\n",
    "                 test_mean - test_std,\n",
    "                 alpha=0.15, color='green')\n",
    "\n",
    "plt.grid()\n",
    "plt.xlabel('Number of training samples')\n",
    "plt.ylabel('Accuracy')\n",
    "plt.legend(loc='lower right')\n",
    "plt.ylim([0.8, 1.03])\n",
    "plt.tight_layout()\n",
    "\n",
    "plt.show()"
   ]
  },
  {
   "cell_type": "markdown",
   "metadata": {},
   "source": [
    "Above 3000 training samples seems to have good balance between training accuracy and validation accuracy. Our training sample is about 5000."
   ]
  },
  {
   "cell_type": "markdown",
   "metadata": {},
   "source": [
    "# k-fold crossvalidation"
   ]
  },
  {
   "cell_type": "code",
   "execution_count": 45,
   "metadata": {},
   "outputs": [
    {
     "name": "stdout",
     "output_type": "stream",
     "text": [
      "CV accuracy scores: [0.96230599 0.9556541  0.95333333 0.96222222 0.94888889 0.93318486\n",
      " 0.94654788 0.94877506 0.95768374 0.94877506]\n",
      "CV accuracy: 0.952 +/- 0.008\n"
     ]
    }
   ],
   "source": [
    "from sklearn.model_selection import cross_val_score\n",
    "\n",
    "scores = cross_val_score(estimator=pipe_lr,\n",
    "                         X=X_train,\n",
    "                         y=y_train,\n",
    "                         cv=10,\n",
    "                         n_jobs=1)\n",
    "print('CV accuracy scores: %s' % scores)\n",
    "print('CV accuracy: %.3f +/- %.3f' % (np.mean(scores), np.std(scores)))"
   ]
  },
  {
   "cell_type": "code",
   "execution_count": 46,
   "metadata": {},
   "outputs": [
    {
     "name": "stdout",
     "output_type": "stream",
     "text": [
      "Test Accuracy: 0.954\n"
     ]
    }
   ],
   "source": [
    "from sklearn.preprocessing import StandardScaler\n",
    "from sklearn.decomposition import PCA\n",
    "from sklearn.linear_model import LogisticRegression\n",
    "from sklearn.pipeline import make_pipeline\n",
    "\n",
    "pipe_lr = make_pipeline(StandardScaler(),\n",
    "                        PCA(n_components=3),\n",
    "                        LogisticRegression(random_state=1))\n",
    "\n",
    "pipe_lr.fit(X_train, y_train)\n",
    "y_pred = pipe_lr.predict(X_test)\n",
    "print('Test Accuracy: %.3f' % pipe_lr.score(X_test, y_test))"
   ]
  },
  {
   "cell_type": "code",
   "execution_count": 47,
   "metadata": {},
   "outputs": [
    {
     "name": "stdout",
     "output_type": "stream",
     "text": [
      "10-fold cross validation:\n",
      "\n",
      "ROC AUC: 0.95 (+/- 0.01) [Logistic regression]\n",
      "ROC AUC: 0.84 (+/- 0.01) [Decision tree]\n",
      "ROC AUC: 0.96 (+/- 0.01) [KNN]\n"
     ]
    }
   ],
   "source": [
    "import numpy as np\n",
    "from sklearn.linear_model import LogisticRegression\n",
    "from sklearn.tree import DecisionTreeClassifier\n",
    "from sklearn.neighbors import KNeighborsClassifier \n",
    "from sklearn.pipeline import Pipeline\n",
    "from sklearn.model_selection import cross_val_score\n",
    "\n",
    "clf1 = LogisticRegression(penalty='l2', \n",
    "                          C=0.01,\n",
    "                          random_state=1)\n",
    "\n",
    "clf2 = DecisionTreeClassifier(max_depth=1,\n",
    "                              criterion='entropy',\n",
    "                              random_state=0)\n",
    "\n",
    "clf3 = KNeighborsClassifier(n_neighbors=3,\n",
    "                            p=2,\n",
    "                            metric='minkowski')\n",
    "\n",
    "pipe1 = Pipeline([['sc', StandardScaler()],\n",
    "                  ['clf', clf1]])\n",
    "pipe3 = Pipeline([['sc', StandardScaler()],\n",
    "                  ['clf', clf3]])\n",
    "\n",
    "clf_labels = ['Logistic regression', 'Decision tree', 'KNN']\n",
    "\n",
    "print('10-fold cross validation:\\n')\n",
    "for clf, label in zip([pipe1, clf2, pipe3], clf_labels):\n",
    "    scores = cross_val_score(estimator=clf,\n",
    "                             X=X_train,\n",
    "                             y=y_train,\n",
    "                             cv=10,\n",
    "                             scoring='roc_auc')\n",
    "    print(\"ROC AUC: %0.2f (+/- %0.2f) [%s]\"\n",
    "          % (scores.mean(), scores.std(), label))"
   ]
  },
  {
   "cell_type": "markdown",
   "metadata": {},
   "source": [
    "# Majorty voting"
   ]
  },
  {
   "cell_type": "code",
   "execution_count": 48,
   "metadata": {},
   "outputs": [
    {
     "name": "stdout",
     "output_type": "stream",
     "text": [
      "ROC AUC: 0.95 (+/- 0.01) [Logistic regression]\n",
      "ROC AUC: 0.84 (+/- 0.01) [Decision tree]\n",
      "ROC AUC: 0.96 (+/- 0.01) [KNN]\n",
      "ROC AUC: 0.96 (+/- 0.01) [Majority voting]\n"
     ]
    },
    {
     "data": {
      "image/png": "[encoded data removed]",
      "text/plain": [
       "<matplotlib.figure.Figure at 0x204910f2668>"
      ]
     },
     "metadata": {},
     "output_type": "display_data"
    }
   ],
   "source": [
    "from sklearn.base import BaseEstimator\n",
    "from sklearn.base import ClassifierMixin\n",
    "from sklearn.pipeline import _name_estimators\n",
    "from sklearn.externals import six\n",
    "from sklearn.base import clone\n",
    "class MajorityVoteClassifier(BaseEstimator, \n",
    "                             ClassifierMixin):\n",
    "    \"\"\" A majority vote ensemble classifier\n",
    "\n",
    "    Parameters\n",
    "    ----------\n",
    "    classifiers : array-like, shape = [n_classifiers]\n",
    "      Different classifiers for the ensemble\n",
    "\n",
    "    vote : str, {'classlabel', 'probability'} (default='label')\n",
    "      If 'classlabel' the prediction is based on the argmax of\n",
    "        class labels. Else if 'probability', the argmax of\n",
    "        the sum of probabilities is used to predict the class label\n",
    "        (recommended for calibrated classifiers).\n",
    "\n",
    "    weights : array-like, shape = [n_classifiers], optional (default=None)\n",
    "      If a list of `int` or `float` values are provided, the classifiers\n",
    "      are weighted by importance; Uses uniform weights if `weights=None`.\n",
    "\n",
    "    \"\"\"\n",
    "    def __init__(self, classifiers, vote='classlabel', weights=None):\n",
    "\n",
    "        self.classifiers = classifiers\n",
    "        self.named_classifiers = {key: value for key, value\n",
    "                                  in _name_estimators(classifiers)}\n",
    "        self.vote = vote\n",
    "        self.weights = weights\n",
    "\n",
    "    def fit(self, X, y):\n",
    "        \"\"\" Fit classifiers.\n",
    "\n",
    "        Parameters\n",
    "        ----------\n",
    "        X : {array-like, sparse matrix}, shape = [n_samples, n_features]\n",
    "            Matrix of training samples.\n",
    "\n",
    "        y : array-like, shape = [n_samples]\n",
    "            Vector of target class labels.\n",
    "\n",
    "        Returns\n",
    "        -------\n",
    "        self : object\n",
    "\n",
    "        \"\"\"\n",
    "        if self.vote not in ('probability', 'classlabel'):\n",
    "            raise ValueError(\"vote must be 'probability' or 'classlabel'\"\n",
    "                             \"; got (vote=%r)\"\n",
    "                             % self.vote)\n",
    "\n",
    "        if self.weights and len(self.weights) != len(self.classifiers):\n",
    "            raise ValueError('Number of classifiers and weights must be equal'\n",
    "                             '; got %d weights, %d classifiers'\n",
    "                             % (len(self.weights), len(self.classifiers)))\n",
    "\n",
    "        # Use LabelEncoder to ensure class labels start with 0, which\n",
    "        # is important for np.argmax call in self.predict\n",
    "        self.lablenc_ = LabelEncoder()\n",
    "        self.lablenc_.fit(y)\n",
    "        self.classes_ = self.lablenc_.classes_\n",
    "        self.classifiers_ = []\n",
    "        for clf in self.classifiers:\n",
    "            fitted_clf = clone(clf).fit(X, self.lablenc_.transform(y))\n",
    "            self.classifiers_.append(fitted_clf)\n",
    "        return self\n",
    "\n",
    "    def predict(self, X):\n",
    "        \"\"\" Predict class labels for X.\n",
    "\n",
    "        Parameters\n",
    "        ----------\n",
    "        X : {array-like, sparse matrix}, shape = [n_samples, n_features]\n",
    "            Matrix of training samples.\n",
    "\n",
    "        Returns\n",
    "        ----------\n",
    "        maj_vote : array-like, shape = [n_samples]\n",
    "            Predicted class labels.\n",
    "            \n",
    "        \"\"\"\n",
    "        if self.vote == 'probability':\n",
    "            maj_vote = np.argmax(self.predict_proba(X), axis=1)\n",
    "        else:  # 'classlabel' vote\n",
    "\n",
    "            #  Collect results from clf.predict calls\n",
    "            predictions = np.asarray([clf.predict(X)\n",
    "                                      for clf in self.classifiers_]).T\n",
    "\n",
    "            maj_vote = np.apply_along_axis(\n",
    "                                      lambda x:\n",
    "                                      np.argmax(np.bincount(x,\n",
    "                                                weights=self.weights)),\n",
    "                                      axis=1,\n",
    "                                      arr=predictions)\n",
    "        maj_vote = self.lablenc_.inverse_transform(maj_vote)\n",
    "        return maj_vote\n",
    "\n",
    "    def predict_proba(self, X):\n",
    "        \"\"\" Predict class probabilities for X.\n",
    "\n",
    "        Parameters\n",
    "        ----------\n",
    "        X : {array-like, sparse matrix}, shape = [n_samples, n_features]\n",
    "            Training vectors, where n_samples is the number of samples and\n",
    "            n_features is the number of features.\n",
    "\n",
    "        Returns\n",
    "        ----------\n",
    "        avg_proba : array-like, shape = [n_samples, n_classes]\n",
    "            Weighted average probability for each class per sample.\n",
    "\n",
    "        \"\"\"\n",
    "        probas = np.asarray([clf.predict_proba(X)\n",
    "                             for clf in self.classifiers_])\n",
    "        avg_proba = np.average(probas, axis=0, weights=self.weights)\n",
    "        return avg_proba\n",
    "\n",
    "    def get_params(self, deep=True):\n",
    "        \"\"\" Get classifier parameter names for GridSearch\"\"\"\n",
    "        if not deep:\n",
    "            return super(MajorityVoteClassifier, self).get_params(deep=False)\n",
    "        else:\n",
    "            out = self.named_classifiers.copy()\n",
    "            for name, step in six.iteritems(self.named_classifiers):\n",
    "                for key, value in six.iteritems(step.get_params(deep=True)):\n",
    "                    out['%s__%s' % (name, key)] = value\n",
    "            return out\n",
    "mv_clf = MajorityVoteClassifier(classifiers=[pipe1, clf2, pipe3])\n",
    "\n",
    "clf_labels += ['Majority voting']\n",
    "all_clf = [pipe1, clf2, pipe3, mv_clf]\n",
    "\n",
    "for clf, label in zip(all_clf, clf_labels):\n",
    "    scores = cross_val_score(estimator=clf,\n",
    "                             X=X_train,\n",
    "                             y=y_train,\n",
    "                             cv=10,\n",
    "                             scoring='roc_auc')\n",
    "    print(\"ROC AUC: %0.2f (+/- %0.2f) [%s]\"\n",
    "          % (scores.mean(), scores.std(), label))\n",
    "from sklearn.metrics import roc_curve\n",
    "from sklearn.metrics import auc\n",
    "\n",
    "colors = ['black', 'orange', 'blue', 'green']\n",
    "linestyles = [':', '--', '-.', '-']\n",
    "for clf, label, clr, ls \\\n",
    "        in zip(all_clf,\n",
    "               clf_labels, colors, linestyles):\n",
    "\n",
    "    # assuming the label of the positive class is 1\n",
    "    y_pred = clf.fit(X_train,\n",
    "                     y_train).predict_proba(X_test)[:, 1]\n",
    "    fpr, tpr, thresholds = roc_curve(y_true=y_test,\n",
    "                                     y_score=y_pred)\n",
    "    roc_auc = auc(x=fpr, y=tpr)\n",
    "    plt.plot(fpr, tpr,\n",
    "             color=clr,\n",
    "             linestyle=ls,\n",
    "             label='%s (auc = %0.2f)' % (label, roc_auc))\n",
    "\n",
    "plt.legend(loc='lower right')\n",
    "plt.plot([0, 1], [0, 1],\n",
    "         linestyle='--',\n",
    "         color='gray',\n",
    "         linewidth=2)\n",
    "\n",
    "plt.xlim([-0.1, 1.1])\n",
    "plt.ylim([-0.1, 1.1])\n",
    "plt.grid(alpha=0.5)\n",
    "plt.xlabel('False positive rate (FPR)')\n",
    "plt.ylabel('True positive rate (TPR)')\n",
    "\n",
    "plt.show()"
   ]
  },
  {
   "cell_type": "markdown",
   "metadata": {},
   "source": [
    "#  Grid Search"
   ]
  },
  {
   "cell_type": "code",
   "execution_count": 49,
   "metadata": {},
   "outputs": [
    {
     "name": "stdout",
     "output_type": "stream",
     "text": [
      "0.962 +/- 0.00 {'decisiontreeclassifier__max_depth': 1, 'pipeline-1__clf__C': 0.001}\n",
      "0.962 +/- 0.00 {'decisiontreeclassifier__max_depth': 1, 'pipeline-1__clf__C': 0.1}\n",
      "0.962 +/- 0.00 {'decisiontreeclassifier__max_depth': 1, 'pipeline-1__clf__C': 100.0}\n",
      "0.964 +/- 0.00 {'decisiontreeclassifier__max_depth': 2, 'pipeline-1__clf__C': 0.001}\n",
      "0.965 +/- 0.00 {'decisiontreeclassifier__max_depth': 2, 'pipeline-1__clf__C': 0.1}\n",
      "0.965 +/- 0.00 {'decisiontreeclassifier__max_depth': 2, 'pipeline-1__clf__C': 100.0}\n",
      "0.964 +/- 0.00 {'decisiontreeclassifier__max_depth': 3, 'pipeline-1__clf__C': 0.001}\n",
      "0.966 +/- 0.00 {'decisiontreeclassifier__max_depth': 3, 'pipeline-1__clf__C': 0.1}\n",
      "0.966 +/- 0.00 {'decisiontreeclassifier__max_depth': 3, 'pipeline-1__clf__C': 100.0}\n",
      "0.965 +/- 0.00 {'decisiontreeclassifier__max_depth': 4, 'pipeline-1__clf__C': 0.001}\n",
      "0.967 +/- 0.00 {'decisiontreeclassifier__max_depth': 4, 'pipeline-1__clf__C': 0.1}\n",
      "0.968 +/- 0.00 {'decisiontreeclassifier__max_depth': 4, 'pipeline-1__clf__C': 100.0}\n",
      "Best parameters: {'decisiontreeclassifier__max_depth': 4, 'pipeline-1__clf__C': 100.0}\n",
      "Accuracy: 0.97\n"
     ]
    }
   ],
   "source": [
    "from sklearn.model_selection import GridSearchCV\n",
    "from sklearn.preprocessing import LabelEncoder\n",
    "\n",
    "params = {'decisiontreeclassifier__max_depth': [1, 2, 3, 4],\n",
    "          'pipeline-1__clf__C': [0.001, 0.1, 100.0]}\n",
    "\n",
    "grid = GridSearchCV(estimator=mv_clf,\n",
    "                    param_grid=params,\n",
    "                    cv=10,\n",
    "                    scoring='roc_auc')\n",
    "grid.fit(X_train, y_train)\n",
    "\n",
    "for r, _ in enumerate(grid.cv_results_['mean_test_score']):\n",
    "    print(\"%0.3f +/- %0.2f %r\"\n",
    "          % (grid.cv_results_['mean_test_score'][r], \n",
    "             grid.cv_results_['std_test_score'][r] / 2.0, \n",
    "             grid.cv_results_['params'][r]))\n",
    "print('Best parameters: %s' % grid.best_params_)\n",
    "print('Accuracy: %.2f' % grid.best_score_)"
   ]
  },
  {
   "cell_type": "markdown",
   "metadata": {},
   "source": [
    "The best parameters here are in consistent with what we used before in regression part."
   ]
  },
  {
   "cell_type": "markdown",
   "metadata": {},
   "source": [
    "# Bagging and Adaboosting"
   ]
  },
  {
   "cell_type": "code",
   "execution_count": 50,
   "metadata": {},
   "outputs": [
    {
     "name": "stdout",
     "output_type": "stream",
     "text": [
      "Decision tree train/test accuracies 0.968/0.951\n",
      "Bagging train/test accuracies 0.968/0.955\n"
     ]
    }
   ],
   "source": [
    "import pandas as pd\n",
    "import numpy as np\n",
    "df = pd.read_csv('dataset of Renren Dai.csv',sep=',',header=0)\n",
    "df=df.dropna(subset=['status'])\n",
    "Xb1 = df.iloc[:, [1,2,3]]\n",
    "yb1 = df.iloc[:, 5]\n",
    "\n",
    "from sklearn.ensemble import BaggingClassifier\n",
    "from sklearn.tree import DecisionTreeClassifier\n",
    "X_train, X_test, y_train, y_test =\\\n",
    "            train_test_split(Xb1, yb1, \n",
    "                             test_size=0.2, \n",
    "                             random_state=1,\n",
    "                             stratify=yb1)\n",
    "tree = DecisionTreeClassifier(criterion='entropy', \n",
    "                              max_depth=None,\n",
    "                              random_state=1)\n",
    "\n",
    "bag = BaggingClassifier(base_estimator=tree,\n",
    "                        n_estimators=500, \n",
    "                        max_samples=1.0, \n",
    "                        max_features=1.0, \n",
    "                        bootstrap=True, \n",
    "                        bootstrap_features=False, \n",
    "                        n_jobs=1, \n",
    "                        random_state=1)\n",
    "\n",
    "from sklearn.metrics import accuracy_score\n",
    "tree = tree.fit(X_train, y_train)\n",
    "y_train_pred = tree.predict(X_train)\n",
    "y_test_pred = tree.predict(X_test)\n",
    "\n",
    "tree_train = accuracy_score(y_train, y_train_pred)\n",
    "tree_test = accuracy_score(y_test, y_test_pred)\n",
    "print('Decision tree train/test accuracies %.3f/%.3f'\n",
    "      % (tree_train, tree_test))\n",
    "\n",
    "bag = bag.fit(X_train, y_train)\n",
    "y_train_pred = bag.predict(X_train)\n",
    "y_test_pred = bag.predict(X_test)\n",
    "\n",
    "bag_train = accuracy_score(y_train, y_train_pred) \n",
    "bag_test = accuracy_score(y_test, y_test_pred) \n",
    "print('Bagging train/test accuracies %.3f/%.3f'\n",
    "      % (bag_train, bag_test))"
   ]
  },
  {
   "cell_type": "code",
   "execution_count": 51,
   "metadata": {},
   "outputs": [
    {
     "name": "stdout",
     "output_type": "stream",
     "text": [
      "Decision tree train/test accuracies 0.956/0.952\n",
      "AdaBoost train/test accuracies 0.968/0.953\n"
     ]
    }
   ],
   "source": [
    "from sklearn.ensemble import AdaBoostClassifier\n",
    "\n",
    "tree = DecisionTreeClassifier(criterion='entropy', \n",
    "                              max_depth=4,\n",
    "                              random_state=1)\n",
    "\n",
    "ada = AdaBoostClassifier(base_estimator=tree,\n",
    "                         n_estimators=500, \n",
    "                         learning_rate=0.1,\n",
    "                         random_state=1)\n",
    "tree = tree.fit(X_train, y_train)\n",
    "y_train_pred = tree.predict(X_train)\n",
    "y_test_pred = tree.predict(X_test)\n",
    "\n",
    "tree_train = accuracy_score(y_train, y_train_pred)\n",
    "tree_test = accuracy_score(y_test, y_test_pred)\n",
    "print('Decision tree train/test accuracies %.3f/%.3f'\n",
    "      % (tree_train, tree_test))\n",
    "\n",
    "ada = ada.fit(X_train, y_train)\n",
    "y_train_pred = ada.predict(X_train)\n",
    "y_test_pred = ada.predict(X_test)\n",
    "\n",
    "ada_train = accuracy_score(y_train, y_train_pred) \n",
    "ada_test = accuracy_score(y_test, y_test_pred) \n",
    "print('AdaBoost train/test accuracies %.3f/%.3f'\n",
    "      % (ada_train, ada_test))"
   ]
  },
  {
   "cell_type": "markdown",
   "metadata": {},
   "source": [
    "Both adaboosting and bagging increase the accuracy of prediction"
   ]
  },
  {
   "cell_type": "markdown",
   "metadata": {},
   "source": [
    "# Sentiment analysis"
   ]
  },
  {
   "cell_type": "markdown",
   "metadata": {},
   "source": [
    "In this part, we will conduct some research on the description of the borrower using method similar to sentiment analysis and text mining. We will try to find out whether some key words will increase or decrease the success probability of P2P contract"
   ]
  },
  {
   "cell_type": "code",
   "execution_count": 52,
   "metadata": {},
   "outputs": [],
   "source": [
    "import pandas as pd\n",
    "import numpy as np\n",
    "df = pd.read_csv('sentiment analysis.csv',sep=',',header=0)"
   ]
  },
  {
   "cell_type": "markdown",
   "metadata": {},
   "source": [
    "Detailed information about this csv used for sentiment analysis can be found in data description\n",
    "It include three parts: Core explaining variables same with previous part, sentiment variable got from description of application, explained variable denoting the status of P2P."
   ]
  },
  {
   "cell_type": "code",
   "execution_count": 53,
   "metadata": {},
   "outputs": [],
   "source": [
    "df=df.dropna(subset=['status'])"
   ]
  },
  {
   "cell_type": "code",
   "execution_count": 54,
   "metadata": {},
   "outputs": [],
   "source": [
    "X = df.iloc[:, [6,7]]\n",
    "y = df.iloc[:, 4]"
   ]
  },
  {
   "cell_type": "code",
   "execution_count": 55,
   "metadata": {},
   "outputs": [
    {
     "name": "stdout",
     "output_type": "stream",
     "text": [
      "Labels counts in y: [2659 4841]\n",
      "Labels counts in y_train: [2127 3869]\n",
      "Labels counts in y_test: [532 967]\n"
     ]
    }
   ],
   "source": [
    "from sklearn.model_selection import train_test_split\n",
    "Xs1_train, Xs1_test, ys1_train, ys1_test = train_test_split(\n",
    "    X, y, test_size=0.3, random_state=1, stratify=y)\n",
    "print('Labels counts in y:', np.bincount(y.astype(np.int32)))\n",
    "print('Labels counts in y_train:', np.bincount(y_train.astype(np.int32)))\n",
    "print('Labels counts in y_test:', np.bincount(y_test.astype(np.int32)))"
   ]
  },
  {
   "cell_type": "markdown",
   "metadata": {},
   "source": [
    "We use lr as an example model of sentiment analysis here."
   ]
  },
  {
   "cell_type": "code",
   "execution_count": 56,
   "metadata": {},
   "outputs": [
    {
     "name": "stdout",
     "output_type": "stream",
     "text": [
      "Misclassified samples: 450\n",
      "Accuracy: 0.80\n"
     ]
    }
   ],
   "source": [
    "from sklearn.linear_model import LogisticRegression\n",
    "\n",
    "lr = LogisticRegression(C=100.0, random_state=1)\n",
    "lr.fit(Xs1_train, ys1_train)\n",
    "\n",
    "from sklearn.metrics import accuracy_score\n",
    "ys1_pred = lr.predict(Xs1_test)\n",
    "\n",
    "print('Misclassified samples: %d' % (ys1_test != ys1_pred).sum())\n",
    "print('Accuracy: %.2f' % accuracy_score(ys1_test, ys1_pred))"
   ]
  },
  {
   "cell_type": "markdown",
   "metadata": {},
   "source": [
    "The accuracy is lower than what our core explaining variable can do, but they do have some explaining power. \n",
    "In the following part we try to find out the relationship between sentiment variables, core explaining variables and explained variables."
   ]
  },
  {
   "cell_type": "code",
   "execution_count": 57,
   "metadata": {
    "scrolled": true
   },
   "outputs": [
    {
     "data": {
      "text/html": [
       "<div>\n",
       "<style scoped>\n",
       "    .dataframe tbody tr th:only-of-type {\n",
       "        vertical-align: middle;\n",
       "    }\n",
       "\n",
       "    .dataframe tbody tr th {\n",
       "        vertical-align: top;\n",
       "    }\n",
       "\n",
       "    .dataframe thead th {\n",
       "        text-align: right;\n",
       "    }\n",
       "</style>\n",
       "<table border=\"1\" class=\"dataframe\">\n",
       "  <thead>\n",
       "    <tr style=\"text-align: right;\">\n",
       "      <th></th>\n",
       "      <th>code</th>\n",
       "      <th>interest</th>\n",
       "      <th>target</th>\n",
       "      <th>maturity</th>\n",
       "      <th>status</th>\n",
       "      <th>quick</th>\n",
       "      <th>stable</th>\n",
       "    </tr>\n",
       "  </thead>\n",
       "  <tbody>\n",
       "    <tr>\n",
       "      <th>code</th>\n",
       "      <td>1.000000</td>\n",
       "      <td>-0.054290</td>\n",
       "      <td>-0.014152</td>\n",
       "      <td>0.120756</td>\n",
       "      <td>-0.147391</td>\n",
       "      <td>-0.044800</td>\n",
       "      <td>0.116814</td>\n",
       "    </tr>\n",
       "    <tr>\n",
       "      <th>interest</th>\n",
       "      <td>-0.054290</td>\n",
       "      <td>1.000000</td>\n",
       "      <td>0.045274</td>\n",
       "      <td>0.048882</td>\n",
       "      <td>0.353765</td>\n",
       "      <td>0.073230</td>\n",
       "      <td>-0.149796</td>\n",
       "    </tr>\n",
       "    <tr>\n",
       "      <th>target</th>\n",
       "      <td>-0.014152</td>\n",
       "      <td>0.045274</td>\n",
       "      <td>1.000000</td>\n",
       "      <td>0.156912</td>\n",
       "      <td>0.027188</td>\n",
       "      <td>-0.024443</td>\n",
       "      <td>-0.060620</td>\n",
       "    </tr>\n",
       "    <tr>\n",
       "      <th>maturity</th>\n",
       "      <td>0.120756</td>\n",
       "      <td>0.048882</td>\n",
       "      <td>0.156912</td>\n",
       "      <td>1.000000</td>\n",
       "      <td>-0.553792</td>\n",
       "      <td>-0.126320</td>\n",
       "      <td>0.466110</td>\n",
       "    </tr>\n",
       "    <tr>\n",
       "      <th>status</th>\n",
       "      <td>-0.147391</td>\n",
       "      <td>0.353765</td>\n",
       "      <td>0.027188</td>\n",
       "      <td>-0.553792</td>\n",
       "      <td>1.000000</td>\n",
       "      <td>0.185878</td>\n",
       "      <td>-0.583504</td>\n",
       "    </tr>\n",
       "    <tr>\n",
       "      <th>quick</th>\n",
       "      <td>-0.044800</td>\n",
       "      <td>0.073230</td>\n",
       "      <td>-0.024443</td>\n",
       "      <td>-0.126320</td>\n",
       "      <td>0.185878</td>\n",
       "      <td>1.000000</td>\n",
       "      <td>-0.146434</td>\n",
       "    </tr>\n",
       "    <tr>\n",
       "      <th>stable</th>\n",
       "      <td>0.116814</td>\n",
       "      <td>-0.149796</td>\n",
       "      <td>-0.060620</td>\n",
       "      <td>0.466110</td>\n",
       "      <td>-0.583504</td>\n",
       "      <td>-0.146434</td>\n",
       "      <td>1.000000</td>\n",
       "    </tr>\n",
       "  </tbody>\n",
       "</table>\n",
       "</div>"
      ],
      "text/plain": [
       "              code  interest    target  maturity    status     quick    stable\n",
       "code      1.000000 -0.054290 -0.014152  0.120756 -0.147391 -0.044800  0.116814\n",
       "interest -0.054290  1.000000  0.045274  0.048882  0.353765  0.073230 -0.149796\n",
       "target   -0.014152  0.045274  1.000000  0.156912  0.027188 -0.024443 -0.060620\n",
       "maturity  0.120756  0.048882  0.156912  1.000000 -0.553792 -0.126320  0.466110\n",
       "status   -0.147391  0.353765  0.027188 -0.553792  1.000000  0.185878 -0.583504\n",
       "quick    -0.044800  0.073230 -0.024443 -0.126320  0.185878  1.000000 -0.146434\n",
       "stable    0.116814 -0.149796 -0.060620  0.466110 -0.583504 -0.146434  1.000000"
      ]
     },
     "execution_count": 57,
     "metadata": {},
     "output_type": "execute_result"
    }
   ],
   "source": [
    "df.corr()"
   ]
  },
  {
   "cell_type": "markdown",
   "metadata": {},
   "source": [
    "We can find out that \"quick\" is positively correlated with interest and negatively correlated with maturity, and interest is positively correlated with status and maturity is negatively correlated with status.\n",
    "Similarly, \"stable\" is negatively correlated with interest and positively correlated with maturity, whose influence through interest and maturity are opposite to \"quick\".\n",
    "This is in consistent with people's intution that people with urgent need will accpet higher interest rate and it will attract more investors, however, though \"stable\" people give a lower interest rate, it seems they don't earn good reputation and trust only be words in description.\n",
    "To confirm our hypothesis, we add core variables to the model and see the difference between only core explaining variables and both core variables and sentiment variables."
   ]
  },
  {
   "cell_type": "code",
   "execution_count": 58,
   "metadata": {},
   "outputs": [],
   "source": [
    "df = pd.read_csv('sentiment analysis.csv',sep=',',header=0)\n",
    "df=df.dropna(subset=['status'])\n",
    "Xs2 = df.iloc[:, [1,2,3,6,7]]\n",
    "ys2 = df.iloc[:, 4]\n"
   ]
  },
  {
   "cell_type": "code",
   "execution_count": 59,
   "metadata": {},
   "outputs": [
    {
     "name": "stdout",
     "output_type": "stream",
     "text": [
      "Labels counts in y: [2659 4841]\n",
      "Labels counts in y_train: [2127 3869]\n",
      "Labels counts in y_test: [532 967]\n"
     ]
    }
   ],
   "source": [
    "Xs2_train, Xs2_test, ys2_train, ys2_test = train_test_split(\n",
    "    Xs2, ys2, test_size=0.3, random_state=1, stratify=y)\n",
    "print('Labels counts in y:', np.bincount(y.astype(np.int32)))\n",
    "print('Labels counts in y_train:', np.bincount(y_train.astype(np.int32)))\n",
    "print('Labels counts in y_test:', np.bincount(y_test.astype(np.int32)))"
   ]
  },
  {
   "cell_type": "code",
   "execution_count": 60,
   "metadata": {},
   "outputs": [
    {
     "name": "stdout",
     "output_type": "stream",
     "text": [
      "Misclassified samples: 155\n",
      "Accuracy: 0.93\n"
     ]
    }
   ],
   "source": [
    "from sklearn.preprocessing import StandardScaler\n",
    "\n",
    "sc = StandardScaler()\n",
    "sc.fit(Xs2_train)\n",
    "Xs2_train_std = sc.transform(Xs2_train)\n",
    "Xs2_test_std = sc.transform(Xs2_test)\n",
    "from sklearn.linear_model import LogisticRegression\n",
    "\n",
    "lr = LogisticRegression(C=100, random_state=1)\n",
    "lr.fit(Xs2_train_std, ys2_train)\n",
    "\n",
    "ys2_pred = lr.predict(Xs2_test_std)\n",
    "\n",
    "print('Misclassified samples: %d' % (ys2_test != ys2_pred).sum())\n",
    "print('Accuracy: %.2f' % accuracy_score(ys2_test, ys2_pred))"
   ]
  },
  {
   "cell_type": "code",
   "execution_count": 61,
   "metadata": {},
   "outputs": [
    {
     "name": "stdout",
     "output_type": "stream",
     "text": [
      "Misclassified samples: 97\n",
      "Accuracy: 0.96\n"
     ]
    }
   ],
   "source": [
    "Xs3 = df.iloc[:, [1,2,3]]\n",
    "ys3 = df.iloc[:, 4]\n",
    "Xs3_train, Xs3_test, ys3_train, ys3_test = train_test_split(\n",
    "    Xs3, ys3, test_size=0.3, random_state=1, stratify=y)\n",
    "from sklearn.preprocessing import StandardScaler\n",
    "\n",
    "sc = StandardScaler()\n",
    "sc.fit(Xs3_train)\n",
    "Xs3_train_std = sc.transform(Xs3_train)\n",
    "Xs3_test_std = sc.transform(Xs3_test)\n",
    "from sklearn.linear_model import LogisticRegression\n",
    "\n",
    "lr = LogisticRegression(C=100, random_state=1)\n",
    "lr.fit(Xs3_train_std, ys3_train)\n",
    "\n",
    "ys3_pred = lr.predict(Xs3_test_std)\n",
    "\n",
    "print('Misclassified samples: %d' % (ys3_test != ys3_pred).sum())\n",
    "print('Accuracy: %.2f' % accuracy_score(ys3_test, ys3_pred))"
   ]
  },
  {
   "cell_type": "markdown",
   "metadata": {},
   "source": [
    "Same with our analysis before, adding these variables to our original model based on core variables don't help us better predict our model.\n",
    "The explaining power of sentiment variable before may mainly due to the channel of core variables."
   ]
  }
 ],
 "metadata": {
  "kernelspec": {
   "display_name": "Python 3",
   "language": "python",
   "name": "python3"
  },
  "language_info": {
   "codemirror_mode": {
    "name": "ipython",
    "version": 3
   },
   "file_extension": ".py",
   "mimetype": "text/x-python",
   "name": "python",
   "nbconvert_exporter": "python",
   "pygments_lexer": "ipython3",
   "version": "3.6.4"
  }
 },
 "nbformat": 4,
 "nbformat_minor": 2
}
